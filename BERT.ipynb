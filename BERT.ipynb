{
 "cells": [
  {
   "cell_type": "code",
   "execution_count": null,
   "metadata": {},
   "outputs": [],
   "source": [
    "# Implementation inspired from BERT(2018)"
   ]
  },
  {
   "cell_type": "markdown",
   "metadata": {},
   "source": [
    "# Importing Libraries"
   ]
  },
  {
   "cell_type": "code",
   "execution_count": 189,
   "metadata": {
    "execution": {
     "iopub.execute_input": "2024-05-08T06:50:34.397594Z",
     "iopub.status.busy": "2024-05-08T06:50:34.396947Z",
     "iopub.status.idle": "2024-05-08T06:50:34.402310Z",
     "shell.execute_reply": "2024-05-08T06:50:34.401397Z",
     "shell.execute_reply.started": "2024-05-08T06:50:34.397550Z"
    },
    "id": "N2R7JQdHFGBz",
    "trusted": true
   },
   "outputs": [],
   "source": [
    "import torch\n",
    "import torch.nn as nn\n",
    "import pandas as pd\n",
    "import numpy as np\n",
    "from tqdm import tqdm\n",
    "import re\n",
    "import matplotlib.pyplot as plt"
   ]
  },
  {
   "cell_type": "markdown",
   "metadata": {},
   "source": [
    "# Loading Data"
   ]
  },
  {
   "cell_type": "markdown",
   "metadata": {},
   "source": [
    "Dataset:\n",
    "\n",
    "The training file has 3 columns.\n",
    "\n",
    "Column 1 (article_link): Link towards more details of the corresponding event.\n",
    "\n",
    "Column 2 (text): A news headline.\n",
    "\n",
    "Column 3 (is_sarcastic): 0/1 i.e. Non-Sarcastic / \n",
    "\n",
    "Column 4 (article_text) : text scraped from the article_link\n",
    "\n",
    "This data set contains additional column, which was obtained using the web scraping method described in the next section.\n"
   ]
  },
  {
   "cell_type": "code",
   "execution_count": 204,
   "metadata": {
    "execution": {
     "iopub.execute_input": "2024-05-08T07:15:02.427100Z",
     "iopub.status.busy": "2024-05-08T07:15:02.426364Z",
     "iopub.status.idle": "2024-05-08T07:15:03.891460Z",
     "shell.execute_reply": "2024-05-08T07:15:03.890430Z",
     "shell.execute_reply.started": "2024-05-08T07:15:02.427068Z"
    },
    "trusted": true
   },
   "outputs": [
    {
     "data": {
      "text/html": [
       "<div>\n",
       "<style scoped>\n",
       "    .dataframe tbody tr th:only-of-type {\n",
       "        vertical-align: middle;\n",
       "    }\n",
       "\n",
       "    .dataframe tbody tr th {\n",
       "        vertical-align: top;\n",
       "    }\n",
       "\n",
       "    .dataframe thead th {\n",
       "        text-align: right;\n",
       "    }\n",
       "</style>\n",
       "<table border=\"1\" class=\"dataframe\">\n",
       "  <thead>\n",
       "    <tr style=\"text-align: right;\">\n",
       "      <th></th>\n",
       "      <th>ID</th>\n",
       "      <th>article_link</th>\n",
       "      <th>text</th>\n",
       "      <th>label</th>\n",
       "      <th>article_text</th>\n",
       "    </tr>\n",
       "  </thead>\n",
       "  <tbody>\n",
       "    <tr>\n",
       "      <th>0</th>\n",
       "      <td>4724</td>\n",
       "      <td>https://www.huffingtonpost.com/entry/trump-rea...</td>\n",
       "      <td>how  trump  really  feels  about  queer  peopl...</td>\n",
       "      <td>0</td>\n",
       "      <td>How  Trump  REALLY  Feels  About  Queer  Peopl...</td>\n",
       "    </tr>\n",
       "    <tr>\n",
       "      <th>1</th>\n",
       "      <td>26559</td>\n",
       "      <td>https://www.huffingtonpost.com/entry/egyptian-...</td>\n",
       "      <td>egyptian  death  sentence  for  soccer  fans  ...</td>\n",
       "      <td>0</td>\n",
       "      <td>Egyptian  Death  Sentence  for  Soccer  Fans  ...</td>\n",
       "    </tr>\n",
       "    <tr>\n",
       "      <th>2</th>\n",
       "      <td>24613</td>\n",
       "      <td>https://www.theonion.com/stripper-failing-scho...</td>\n",
       "      <td>stripper  failing  school  she's  working  sel...</td>\n",
       "      <td>1</td>\n",
       "      <td>Stripper  Failing  School  She's  Working  Sel...</td>\n",
       "    </tr>\n",
       "    <tr>\n",
       "      <th>3</th>\n",
       "      <td>9048</td>\n",
       "      <td>https://www.huffingtonpost.com/entry/ken-paxto...</td>\n",
       "      <td>texas  attorney  general  ken  paxton  indicted</td>\n",
       "      <td>0</td>\n",
       "      <td>Texas  Attorney  General  Ken  Paxton  Indicte...</td>\n",
       "    </tr>\n",
       "    <tr>\n",
       "      <th>4</th>\n",
       "      <td>69</td>\n",
       "      <td>https://www.huffingtonpost.com/entry/debbie-di...</td>\n",
       "      <td>congresswoman  fights  for  gun  control  beca...</td>\n",
       "      <td>0</td>\n",
       "      <td>Congresswoman  Fights  For  Gun  Control  Beca...</td>\n",
       "    </tr>\n",
       "  </tbody>\n",
       "</table>\n",
       "</div>"
      ],
      "text/plain": [
       "      ID                                       article_link  \\\n",
       "0   4724  https://www.huffingtonpost.com/entry/trump-rea...   \n",
       "1  26559  https://www.huffingtonpost.com/entry/egyptian-...   \n",
       "2  24613  https://www.theonion.com/stripper-failing-scho...   \n",
       "3   9048  https://www.huffingtonpost.com/entry/ken-paxto...   \n",
       "4     69  https://www.huffingtonpost.com/entry/debbie-di...   \n",
       "\n",
       "                                                text  label  \\\n",
       "0  how  trump  really  feels  about  queer  peopl...      0   \n",
       "1  egyptian  death  sentence  for  soccer  fans  ...      0   \n",
       "2  stripper  failing  school  she's  working  sel...      1   \n",
       "3    texas  attorney  general  ken  paxton  indicted      0   \n",
       "4  congresswoman  fights  for  gun  control  beca...      0   \n",
       "\n",
       "                                        article_text  \n",
       "0  How  Trump  REALLY  Feels  About  Queer  Peopl...  \n",
       "1  Egyptian  Death  Sentence  for  Soccer  Fans  ...  \n",
       "2  Stripper  Failing  School  She's  Working  Sel...  \n",
       "3  Texas  Attorney  General  Ken  Paxton  Indicte...  \n",
       "4  Congresswoman  Fights  For  Gun  Control  Beca...  "
      ]
     },
     "execution_count": 204,
     "metadata": {},
     "output_type": "execute_result"
    }
   ],
   "source": [
    "df=pd.read_csv(\"/kaggle/input/sarcasm-scraped-new/data/sarcasm_scraped_train (2).csv\")\n",
    "df.head()"
   ]
  },
  {
   "cell_type": "code",
   "execution_count": 10,
   "metadata": {
    "execution": {
     "iopub.execute_input": "2024-05-08T04:25:49.198658Z",
     "iopub.status.busy": "2024-05-08T04:25:49.198056Z",
     "iopub.status.idle": "2024-05-08T04:25:49.204426Z",
     "shell.execute_reply": "2024-05-08T04:25:49.203496Z",
     "shell.execute_reply.started": "2024-05-08T04:25:49.198626Z"
    },
    "trusted": true
   },
   "outputs": [
    {
     "data": {
      "text/plain": [
       "(22895, 5)"
      ]
     },
     "execution_count": 10,
     "metadata": {},
     "output_type": "execute_result"
    }
   ],
   "source": [
    "df.shape"
   ]
  },
  {
   "cell_type": "code",
   "execution_count": 11,
   "metadata": {
    "execution": {
     "iopub.execute_input": "2024-05-08T04:25:57.497353Z",
     "iopub.status.busy": "2024-05-08T04:25:57.496525Z",
     "iopub.status.idle": "2024-05-08T04:25:57.513560Z",
     "shell.execute_reply": "2024-05-08T04:25:57.512660Z",
     "shell.execute_reply.started": "2024-05-08T04:25:57.497322Z"
    },
    "trusted": true
   },
   "outputs": [
    {
     "data": {
      "text/plain": [
       "ID                 0\n",
       "article_link       0\n",
       "text               0\n",
       "label              0\n",
       "article_text    3363\n",
       "dtype: int64"
      ]
     },
     "execution_count": 11,
     "metadata": {},
     "output_type": "execute_result"
    }
   ],
   "source": [
    "df.isnull().sum()"
   ]
  },
  {
   "cell_type": "markdown",
   "metadata": {},
   "source": [
    "3363 article text are null due to link not working or some exception raised while scraping. "
   ]
  },
  {
   "cell_type": "code",
   "execution_count": 205,
   "metadata": {
    "execution": {
     "iopub.execute_input": "2024-05-08T07:15:05.484962Z",
     "iopub.status.busy": "2024-05-08T07:15:05.484068Z",
     "iopub.status.idle": "2024-05-08T07:15:05.708207Z",
     "shell.execute_reply": "2024-05-08T07:15:05.707263Z",
     "shell.execute_reply.started": "2024-05-08T07:15:05.484919Z"
    },
    "trusted": true
   },
   "outputs": [
    {
     "data": {
      "image/png": "[encoded data removed]",
      "text/plain": [
       "<Figure size 640x480 with 1 Axes>"
      ]
     },
     "metadata": {},
     "output_type": "display_data"
    }
   ],
   "source": [
    "x = df['label'].value_counts()\n",
    "plt.bar(['0','1'], x)\n",
    "plt.xlabel('Labels')\n",
    "plt.ylabel('Count')\n",
    "plt.title('Label Distribution')\n",
    "plt.show()\n"
   ]
  },
  {
   "cell_type": "code",
   "execution_count": 27,
   "metadata": {
    "execution": {
     "iopub.execute_input": "2024-05-08T04:42:15.540361Z",
     "iopub.status.busy": "2024-05-08T04:42:15.539621Z",
     "iopub.status.idle": "2024-05-08T04:42:15.547517Z",
     "shell.execute_reply": "2024-05-08T04:42:15.546653Z",
     "shell.execute_reply.started": "2024-05-08T04:42:15.540329Z"
    },
    "trusted": true
   },
   "outputs": [
    {
     "data": {
      "text/plain": [
       "0         6516\n",
       "1        12055\n",
       "2         1878\n",
       "3         7217\n",
       "4         7453\n",
       "         ...  \n",
       "22890        0\n",
       "22891        0\n",
       "22892        0\n",
       "22893        0\n",
       "22894        0\n",
       "Name: article_text, Length: 22895, dtype: int64"
      ]
     },
     "execution_count": 27,
     "metadata": {},
     "output_type": "execute_result"
    }
   ],
   "source": [
    "article_text_len"
   ]
  },
  {
   "cell_type": "code",
   "execution_count": 206,
   "metadata": {
    "execution": {
     "iopub.execute_input": "2024-05-08T07:15:10.692338Z",
     "iopub.status.busy": "2024-05-08T07:15:10.691969Z",
     "iopub.status.idle": "2024-05-08T07:15:11.068219Z",
     "shell.execute_reply": "2024-05-08T07:15:11.067236Z",
     "shell.execute_reply.started": "2024-05-08T07:15:10.692308Z"
    },
    "trusted": true
   },
   "outputs": [
    {
     "data": {
      "image/png": "[encoded data removed]",
      "text/plain": [
       "<Figure size 640x480 with 1 Axes>"
      ]
     },
     "metadata": {},
     "output_type": "display_data"
    }
   ],
   "source": [
    "df['article_text'] = df['article_text'].fillna(\"\") \n",
    "article_text_len = df['article_text'].apply(lambda x: len(x))\n",
    "# c = article_text_len.value_counts()/df.shape[0]\n",
    "plt.hist(article_text_len, bins = range(0,10000,500))\n",
    "plt.xlabel('Article length')\n",
    "plt.ylabel('Frequency')\n",
    "plt.xticks(range(0,10000,500),rotation='vertical')\n",
    "plt.title('Article text length (Before preprocessing)')\n",
    "plt.show()"
   ]
  },
  {
   "cell_type": "code",
   "execution_count": 193,
   "metadata": {
    "execution": {
     "iopub.execute_input": "2024-05-08T07:05:26.274856Z",
     "iopub.status.busy": "2024-05-08T07:05:26.274453Z",
     "iopub.status.idle": "2024-05-08T07:05:26.286759Z",
     "shell.execute_reply": "2024-05-08T07:05:26.285764Z",
     "shell.execute_reply.started": "2024-05-08T07:05:26.274823Z"
    },
    "trusted": true
   },
   "outputs": [
    {
     "data": {
      "text/plain": [
       "count    22895.000000\n",
       "mean      5127.675868\n",
       "std       5175.379868\n",
       "min          0.000000\n",
       "25%       1770.500000\n",
       "50%       2730.000000\n",
       "75%       8252.500000\n",
       "max      99461.000000\n",
       "Name: article_text, dtype: float64"
      ]
     },
     "execution_count": 193,
     "metadata": {},
     "output_type": "execute_result"
    }
   ],
   "source": [
    "article_text_len.describe()"
   ]
  },
  {
   "cell_type": "code",
   "execution_count": 207,
   "metadata": {
    "execution": {
     "iopub.execute_input": "2024-05-08T07:15:56.725479Z",
     "iopub.status.busy": "2024-05-08T07:15:56.724852Z",
     "iopub.status.idle": "2024-05-08T07:15:56.731746Z",
     "shell.execute_reply": "2024-05-08T07:15:56.730878Z",
     "shell.execute_reply.started": "2024-05-08T07:15:56.725448Z"
    },
    "trusted": true
   },
   "outputs": [
    {
     "data": {
      "text/plain": [
       "\"How  Trump  REALLY  Feels  About  Queer  People,  Explained  In  One  Sentence  |  HuffPost  Voices\\n\\n\\n\\n\\n\\n\\n\\n\\n\\nSkip  to  Main  Content×Main  MenuU.S.  EditionNewsU.S.  NewsWorld  NewsBusinessEnvironmentHealthSocial  JusticeCrimePoliticsJoe  BidenCongressExtremismOpinionEntertainmentCulture  &  ArtsMediaCelebrityTV  &  FilmBooksLifeStyle  &  BeautyFood  &  DrinkParentingTravelWellnessRelationshipsMoneyHome  &  LivingWork/LifeShoppingVoicesBlack  VoicesQueer  VoicesLatino  VoicesIndigenous  VoicesAsian  VoicesWomen's  VoicesHuffPost  PersonalVIDEOFor  Our  PartnersThe  Good  LifeHoroscopesNewslettersPyramid  Scheme  (Word  Game)InternationalU.S.U.K.EspañaFranceΕλλάδα  (Greece)Italia日本  (Japan)한국  (Korea)Follow  UsTerms\\xa0|\\xa0Privacy  PolicyPart  of  HuffPost  News.  ©2024  BuzzFeed,  Inc.  All  rights  reserved.×What's  Hot\\n\\n\\n\\n\\n\\n\\n\\nLog  InSupport  UsQueer  VoicesDonald  TrumpDonald  Trump  LGBTdonald  trump  lgbt  promiseHow  Trump  REALLY  Feels  About  Queer  People,  Explained  In  One  SentenceIt  ain't  pretty,  folks.By\\xa0Noah  MichelsonEditorial  Director,  HuffPost  PersonalJul  22,  2016,  09:09  AM  EDTLEAVE  A  COMMENTDon't  believe  a  word  this  man  says.Bloomberg  via  Getty  ImagesDonald  Trump  has  vowed  to  appoint  judges  who  will  overturn  the  Supreme  Court’s  ruling  on  marriage  equality,  has  stated  that  he  supports  states’  rights  to  pass  laws  that  give  permission  to  discriminate  against  queer  people,  and  he  recently  courted  400  of  the  most  anti-queer  leaders  in  America,  so  his  promise  to  protect  queer  people  (especially  as  the  leader  of  the  Republican  Party  which  just  passed  “the  most  anti-LGBT  platform  in  history”)  is  nothing  but  a  pile  of  steaming  elephant  shit  and  anyone  who  tries  to  tell  you  otherwise  ―  including  Trump  himself  ―  is  lying  to  you  and  themselves.      Advertisement\\n\\n\\n\\nEditor’s  note:  Donald  Trump  regularly  incites  political  violence  and  is  a  serial  liar,  rampant  xenophobe,  racist,  misogynist  and  birther  who  has  repeatedly  pledged  to  ban  all  Muslims  ―  1.6  billion  members  of  an  entire  religion  ―  from  entering  the  U.S.Support  HuffPostOur  2024  Coverage  Needs  YouYour  Loyalty  Means  The  World  To  UsAt  HuffPost,  we  believe  that  everyone  needs  high-quality  journalism,  but  we  understand  that  not  everyone  can  afford  to  pay  for  expensive  news  subscriptions.  That  is  why  we  are  committed  to  providing  deeply  reported,  carefully  fact-checked  news  that  is  freely  accessible  to  everyone.Whether  you  come  to  HuffPost  for  updates  on  the  2024  presidential  race,  hard-hitting  investigations  into  critical  issues  facing  our  country  today,  or  trending  stories  that  make  you  laugh,  we  appreciate  you.  The  truth  is,  news  costs  money  to  produce,  and  we  are  proud  that  we  have  never  put  our  stories  behind  an  expensive  paywall.Would  you  join  us  to  help  keep  our  stories  free  for  all?  Your  contribution  of  as  little  as  $2  will  go  a  long  way.Can't  afford  to  donate?  Support  HuffPost  by  creating  a  free  account  and  log  in  while  you  read.As  Americans  head  to  the  polls  in  2024,  the  very  future  of  our  country  is  at  stake.  At  HuffPost,  we  believe  that  a  free  press  is  critical  to  creating  well-informed  voters.  That's  why  our  journalism  is  free  for  everyone,  even  though  other  newsrooms  retreat  behind  expensive  paywalls.Our  journalists  will  continue  to  cover  the  twists  and  turns  during  this  historic  presidential  election.  With  your  help,  we'll  bring  you  hard-hitting  investigations,  well-researched  analysis  and  timely  takes  you  can't  find  elsewhere.  Reporting  in  this  current  political  climate  is  a  responsibility  we  do  not  take  lightly,  and  we  thank  you  for  your  support.Contribute  as  little  as  $2  to  keep  our  news  free  for  all.Can't  afford  to  donate?  Support  HuffPost  by  creating  a  free  account  and  log  in  while  you  read.Dear  HuffPost  ReaderThank  you  for  your  past  contribution  to  HuffPost.  We  are  sincerely  grateful  for  readers  like  you  who  help  us  ensure  that  we  can  keep  our  journalism  free  for  everyone.The  stakes  are  high  this  year,  and  our  2024  coverage  could  use  continued  support.  Would  you  consider  becoming  a  regular  HuffPost  contributor?Dear  HuffPost  ReaderThank  you  for  your  past  contribution  to  HuffPost.  We  are  sincerely  grateful  for  readers  like  you  who  help  us  ensure  that  we  can  keep  our  journalism  free  for  everyone.The  stakes  are  high  this  year,  and  our  2024  coverage  could  use  continued  support.  If  circumstances  have  changed  since  you  last  contributed,  we  hope  you’ll  consider  contributing  to  HuffPost  once  more.Support  HuffPostAlready  contributed?  Log  in  to  hide  these  messages.RelatedDonald  TrumpDonald  Trump  LGBTdonald  trump  lgbt  promiseQueer  VoicesBlack  VoicesOpinion:  Trump  Keeps  Trying  To  Court  Black  Voters.  But  Who’s  Actually  Buying  This  S**t?'Mary  &  George'  Lets  Us  Reimagine  All  History  As  Queer  HistoryCelebs  Who  Posted  Things  Online  That  A  Publicist  Should  Have  Reviewed  FirstBefore  You  Go9  Other  Absurd  Things  Donald  Trump  Has  Said  About  LatinosSee  Gallery  Go  to  HomepageLEAVE  A  COMMENTSuggest  a  correction|Submit  a  tipPopular  in  the  Community\\n\\n\\n\\n\\n\\nFrom  Our  Partner\\n\\n\\n\\n\\n\\n\\n\\n\\n\\n\\n\\n\\n\\nFrom  Our  Partner\\n\\n\\n\\n\\n\\n\\n\\nHuffPost  Shopping'sBest  FindsNewsletter  Sign  UpThe  Morning  EmailWake  up  to  the  day's  most  important  news.Successfully  Signed  Up!Realness  delivered  to  your  inboxBy  entering  your  email  and  clicking  Sign  Up,  you're  agreeing  to  let  us  send  you  customized  marketing  messages  about  us  and  our  advertising  partners.  You  are  also  agreeing  to  our  Terms  of  Service  and  Privacy  Policy.\\n\\n\\n\\n\\n\\n\\n\\n\\n\\n\\n\\n\\n\\n\\n\\nClose  What's  HotMore  In  Queer  Voices\\n\\n\\n\\nNEWSPOLITICSENTERTAINMENTLIFEVOICESHUFFPOST  PERSONALSHOPPINGNEWSLETTERSAbout  UsAdvertiseContact  UsRSSFAQCareersUser  AgreementComment  PolicyDMCA  PolicyHuffPost  Press  RoomAccessibility  StatementPrivacy  PolicyConsent  PreferencesPrivacy  SettingsPart  of  HuffPost  News.  ©2024  BuzzFeed,  Inc.  All  rights  reserved.The  Huffington  Post\\n\\n\\n\\n\\n\\n\\n\\n\\n\\n\\n\\n\""
      ]
     },
     "execution_count": 207,
     "metadata": {},
     "output_type": "execute_result"
    }
   ],
   "source": [
    "df.loc[0,'article_text']"
   ]
  },
  {
   "cell_type": "markdown",
   "metadata": {},
   "source": [
    "# Web Scraping"
   ]
  },
  {
   "cell_type": "markdown",
   "metadata": {},
   "source": [
    "**As the extraction of text from article link is an independent across all rows,**\n",
    "\n",
    "**we can use parallel processing across multiple cores using python's multiprocessing library**"
   ]
  },
  {
   "cell_type": "code",
   "execution_count": null,
   "metadata": {
    "trusted": true
   },
   "outputs": [],
   "source": [
    "from tqdm import tqdm\n",
    "from bs4 import BeautifulSoup\n",
    "from urllib.request import Request, urlopen\n",
    "import multiprocessing\n",
    "\n",
    "# Extract text from row using article link\n",
    "def extract_text(row):\n",
    "    site= row[1]\n",
    "    index = row[3]\n",
    "    text = [index]\n",
    "    site_split = site.split('http')\n",
    "    if(len(site_split)>2):\n",
    "        site = site.split('https://www.huffingtonpost.com')[1]\n",
    "    try:\n",
    "        hdr = {'User-Agent': 'Mozilla/5.0'}\n",
    "        req = Request(site,headers=hdr)\n",
    "        page = urlopen(req)\n",
    "        soup = BeautifulSoup(page, 'html.parser')\n",
    "        text = [index, soup.get_text()]\n",
    "    except:\n",
    "        text= [index,\"\"]\n",
    "    return text\n",
    "\n",
    "if __name__ == \"__main__\":\n",
    "    \n",
    "    x = df.to_numpy()\n",
    "    # Define the number of processes to use\n",
    "    num_processes = multiprocessing.cpu_count()\n",
    "\n",
    "    # Create a pool of worker processes\n",
    "    pool = multiprocessing.Pool(processes=num_processes)\n",
    "\n",
    "    # Define your input data (e.g., a list of items)\n",
    "    data = x\n",
    "\n",
    "    result_list_tqdm = []\n",
    "    for result in tqdm(pool.imap_unordered(func=extract_text, iterable=data), total=data.shape[0]):\n",
    "        result_list_tqdm.append(result)\n",
    "    \n",
    "    # Close the pool to free up resources\n",
    "    pool.close()\n",
    "    pool.join()"
   ]
  },
  {
   "cell_type": "code",
   "execution_count": null,
   "metadata": {},
   "outputs": [],
   "source": [
    "result_list_tqdm"
   ]
  },
  {
   "cell_type": "markdown",
   "metadata": {},
   "source": [
    "# Pre-processing"
   ]
  },
  {
   "cell_type": "code",
   "execution_count": 208,
   "metadata": {
    "execution": {
     "iopub.execute_input": "2024-05-08T07:20:43.669895Z",
     "iopub.status.busy": "2024-05-08T07:20:43.669233Z",
     "iopub.status.idle": "2024-05-08T07:20:57.680076Z",
     "shell.execute_reply": "2024-05-08T07:20:57.679277Z",
     "shell.execute_reply.started": "2024-05-08T07:20:43.669857Z"
    },
    "trusted": true
   },
   "outputs": [],
   "source": [
    "# Filling \"\" in article_text column with na values\n",
    "df['article_text'] = df['article_text'].fillna(\"\")\n",
    "def combine(x):\n",
    "    if x['article_text'] == \"\":\n",
    "        x['combined_text'] = x['text']\n",
    "    else:\n",
    "        x['combined_text'] = x['article_text']\n",
    "    return x\n",
    "df = df.apply(combine,axis=1)"
   ]
  },
  {
   "cell_type": "code",
   "execution_count": 209,
   "metadata": {
    "execution": {
     "iopub.execute_input": "2024-05-08T07:20:57.683082Z",
     "iopub.status.busy": "2024-05-08T07:20:57.682780Z",
     "iopub.status.idle": "2024-05-08T07:21:15.828098Z",
     "shell.execute_reply": "2024-05-08T07:21:15.827204Z",
     "shell.execute_reply.started": "2024-05-08T07:20:57.683057Z"
    },
    "trusted": true
   },
   "outputs": [],
   "source": [
    "def preprocess(row):\n",
    "    txt = row['article_text']\n",
    "    al = row['article_link']\n",
    "    headline = row['text']\n",
    "    # replacing \\n by space\n",
    "    txt = txt.replace('\\n', \" \")\n",
    "    # replacing multiple spaces by single spacee\n",
    "    txt = re.sub(r'\\s+', ' ', txt)\n",
    "    # removing huffingtonpost.com from txt\n",
    "    if(\"huffingtonpost.com\" in al):\n",
    "        # Splitting at Support HuffPost to remove unwanted footer contents at the end\n",
    "        split_txt = txt.split('Support HuffPost')\n",
    "        if len(split_txt)>1:\n",
    "            txt = split_txt[0]\n",
    "        # Splitting at Related Content to remove unwanted header contents\n",
    "    elif(\"theonion.com\" in al):\n",
    "        split_txt = txt.split('Related Content')\n",
    "        if len(split_txt)>1:\n",
    "            txt = split_txt[0]\n",
    "    try:\n",
    "        h = headline.lower()\n",
    "        # replacing multiple spaces by single spacee\n",
    "        h = re.sub(r'\\s+', ' ', h)\n",
    "        # replacing multiple spaces by single spacee\n",
    "        h = re.sub(r'\\s+', ' ', h)\n",
    "        txt = re.sub(r'\\s+', ' ', txt)\n",
    "        # formatting\n",
    "        txt = re.sub(\"[’‘]\",\"'\",txt)\n",
    "        h = re.sub(\"[’‘]\",\"'\",h)\n",
    "        # removing html tags\n",
    "        txt = re.sub(r'<[^>]*>', '', txt)\n",
    "        txt = txt.lower().split(h)[-1]\n",
    "        # combining headline and article text \n",
    "        txt = h + \" \" + txt\n",
    "    except:\n",
    "        print(row['ID'], h)\n",
    "        print(txt.lower())\n",
    "    # removing unwanted text at the starting\n",
    "    txt = re.sub(r'published.+we may earn a commission from links on this page', '', txt)\n",
    "    row['article_text'] =txt\n",
    "\n",
    "        \n",
    "    return row\n",
    "    \n",
    "df = df.apply(preprocess, axis=1)"
   ]
  },
  {
   "cell_type": "code",
   "execution_count": 203,
   "metadata": {
    "execution": {
     "iopub.execute_input": "2024-05-08T07:14:37.497722Z",
     "iopub.status.busy": "2024-05-08T07:14:37.497351Z",
     "iopub.status.idle": "2024-05-08T07:14:37.802829Z",
     "shell.execute_reply": "2024-05-08T07:14:37.801853Z",
     "shell.execute_reply.started": "2024-05-08T07:14:37.497684Z"
    },
    "trusted": true
   },
   "outputs": [
    {
     "data": {
      "image/png": "[encoded data removed]",
      "text/plain": [
       "<Figure size 640x480 with 1 Axes>"
      ]
     },
     "metadata": {},
     "output_type": "display_data"
    }
   ],
   "source": [
    "article_text_len = df['article_text'].apply(lambda x: len(x))\n",
    "# c = article_text_len.value_counts()/df.shape[0]\n",
    "plt.hist(article_text_len, bins = range(0,10000,500))\n",
    "plt.xlabel('Article length')\n",
    "plt.ylabel('Frequency')\n",
    "plt.xticks(range(0,10000,500),rotation='vertical')\n",
    "plt.title('Article text length (After preprocessing)')\n",
    "plt.show()"
   ]
  },
  {
   "cell_type": "code",
   "execution_count": 43,
   "metadata": {
    "execution": {
     "iopub.execute_input": "2024-05-08T04:47:50.502162Z",
     "iopub.status.busy": "2024-05-08T04:47:50.501226Z",
     "iopub.status.idle": "2024-05-08T04:47:50.513955Z",
     "shell.execute_reply": "2024-05-08T04:47:50.512996Z",
     "shell.execute_reply.started": "2024-05-08T04:47:50.502118Z"
    },
    "trusted": true
   },
   "outputs": [
    {
     "data": {
      "text/html": [
       "<div>\n",
       "<style scoped>\n",
       "    .dataframe tbody tr th:only-of-type {\n",
       "        vertical-align: middle;\n",
       "    }\n",
       "\n",
       "    .dataframe tbody tr th {\n",
       "        vertical-align: top;\n",
       "    }\n",
       "\n",
       "    .dataframe thead th {\n",
       "        text-align: right;\n",
       "    }\n",
       "</style>\n",
       "<table border=\"1\" class=\"dataframe\">\n",
       "  <thead>\n",
       "    <tr style=\"text-align: right;\">\n",
       "      <th></th>\n",
       "      <th>ID</th>\n",
       "      <th>article_link</th>\n",
       "      <th>text</th>\n",
       "      <th>label</th>\n",
       "      <th>article_text</th>\n",
       "      <th>combined_text</th>\n",
       "    </tr>\n",
       "  </thead>\n",
       "  <tbody>\n",
       "    <tr>\n",
       "      <th>0</th>\n",
       "      <td>4724</td>\n",
       "      <td>https://www.huffingtonpost.com/entry/trump-rea...</td>\n",
       "      <td>how  trump  really  feels  about  queer  peopl...</td>\n",
       "      <td>0</td>\n",
       "      <td>how trump really feels about queer people, exp...</td>\n",
       "      <td>How  Trump  REALLY  Feels  About  Queer  Peopl...</td>\n",
       "    </tr>\n",
       "    <tr>\n",
       "      <th>1</th>\n",
       "      <td>26559</td>\n",
       "      <td>https://www.huffingtonpost.com/entry/egyptian-...</td>\n",
       "      <td>egyptian  death  sentence  for  soccer  fans  ...</td>\n",
       "      <td>0</td>\n",
       "      <td>egyptian death sentence for soccer fans puts p...</td>\n",
       "      <td>Egyptian  Death  Sentence  for  Soccer  Fans  ...</td>\n",
       "    </tr>\n",
       "    <tr>\n",
       "      <th>2</th>\n",
       "      <td>24613</td>\n",
       "      <td>https://www.theonion.com/stripper-failing-scho...</td>\n",
       "      <td>stripper  failing  school  she's  working  sel...</td>\n",
       "      <td>1</td>\n",
       "      <td>stripper failing school she's working self thr...</td>\n",
       "      <td>Stripper  Failing  School  She's  Working  Sel...</td>\n",
       "    </tr>\n",
       "    <tr>\n",
       "      <th>3</th>\n",
       "      <td>9048</td>\n",
       "      <td>https://www.huffingtonpost.com/entry/ken-paxto...</td>\n",
       "      <td>texas  attorney  general  ken  paxton  indicted</td>\n",
       "      <td>0</td>\n",
       "      <td>texas attorney general ken paxton indicted he ...</td>\n",
       "      <td>Texas  Attorney  General  Ken  Paxton  Indicte...</td>\n",
       "    </tr>\n",
       "    <tr>\n",
       "      <th>4</th>\n",
       "      <td>69</td>\n",
       "      <td>https://www.huffingtonpost.com/entry/debbie-di...</td>\n",
       "      <td>congresswoman  fights  for  gun  control  beca...</td>\n",
       "      <td>0</td>\n",
       "      <td>congresswoman fights for gun control because s...</td>\n",
       "      <td>Congresswoman  Fights  For  Gun  Control  Beca...</td>\n",
       "    </tr>\n",
       "  </tbody>\n",
       "</table>\n",
       "</div>"
      ],
      "text/plain": [
       "      ID                                       article_link  \\\n",
       "0   4724  https://www.huffingtonpost.com/entry/trump-rea...   \n",
       "1  26559  https://www.huffingtonpost.com/entry/egyptian-...   \n",
       "2  24613  https://www.theonion.com/stripper-failing-scho...   \n",
       "3   9048  https://www.huffingtonpost.com/entry/ken-paxto...   \n",
       "4     69  https://www.huffingtonpost.com/entry/debbie-di...   \n",
       "\n",
       "                                                text  label  \\\n",
       "0  how  trump  really  feels  about  queer  peopl...      0   \n",
       "1  egyptian  death  sentence  for  soccer  fans  ...      0   \n",
       "2  stripper  failing  school  she's  working  sel...      1   \n",
       "3    texas  attorney  general  ken  paxton  indicted      0   \n",
       "4  congresswoman  fights  for  gun  control  beca...      0   \n",
       "\n",
       "                                        article_text  \\\n",
       "0  how trump really feels about queer people, exp...   \n",
       "1  egyptian death sentence for soccer fans puts p...   \n",
       "2  stripper failing school she's working self thr...   \n",
       "3  texas attorney general ken paxton indicted he ...   \n",
       "4  congresswoman fights for gun control because s...   \n",
       "\n",
       "                                       combined_text  \n",
       "0  How  Trump  REALLY  Feels  About  Queer  Peopl...  \n",
       "1  Egyptian  Death  Sentence  for  Soccer  Fans  ...  \n",
       "2  Stripper  Failing  School  She's  Working  Sel...  \n",
       "3  Texas  Attorney  General  Ken  Paxton  Indicte...  \n",
       "4  Congresswoman  Fights  For  Gun  Control  Beca...  "
      ]
     },
     "execution_count": 43,
     "metadata": {},
     "output_type": "execute_result"
    }
   ],
   "source": [
    "df.head()"
   ]
  },
  {
   "cell_type": "code",
   "execution_count": 44,
   "metadata": {
    "execution": {
     "iopub.execute_input": "2024-05-08T04:47:53.640620Z",
     "iopub.status.busy": "2024-05-08T04:47:53.640266Z",
     "iopub.status.idle": "2024-05-08T04:47:53.646940Z",
     "shell.execute_reply": "2024-05-08T04:47:53.646101Z",
     "shell.execute_reply.started": "2024-05-08T04:47:53.640594Z"
    },
    "trusted": true
   },
   "outputs": [
    {
     "data": {
      "text/plain": [
       "\"how trump really feels about queer people, explained in one sentence it ain't pretty, folks.by noah michelsoneditorial director, huffpost personaljul 22, 2016, 09:09 am edtleave a commentdon't believe a word this man says.bloomberg via getty imagesdonald trump has vowed to appoint judges who will overturn the supreme court's ruling on marriage equality, has stated that he supports states' rights to pass laws that give permission to discriminate against queer people, and he recently courted 400 of the most anti-queer leaders in america, so his promise to protect queer people (especially as the leader of the republican party which just passed “the most anti-lgbt platform in history”) is nothing but a pile of steaming elephant shit and anyone who tries to tell you otherwise ― including trump himself ― is lying to you and themselves. advertisement editor's note: donald trump regularly incites political violence and is a serial liar, rampant xenophobe, racist, misogynist and birther who has repeatedly pledged to ban all muslims ― 1.6 billion members of an entire religion ― from entering the u.s.\""
      ]
     },
     "execution_count": 44,
     "metadata": {},
     "output_type": "execute_result"
    }
   ],
   "source": [
    "df.loc[0,'article_text']"
   ]
  },
  {
   "cell_type": "code",
   "execution_count": 45,
   "metadata": {
    "execution": {
     "iopub.execute_input": "2024-05-08T04:50:12.426040Z",
     "iopub.status.busy": "2024-05-08T04:50:12.425314Z",
     "iopub.status.idle": "2024-05-08T04:50:12.432606Z",
     "shell.execute_reply": "2024-05-08T04:50:12.431620Z",
     "shell.execute_reply.started": "2024-05-08T04:50:12.426008Z"
    },
    "trusted": true
   },
   "outputs": [
    {
     "data": {
      "text/plain": [
       "'https://www.huffingtonpost.com/entry/trump-real-feelings-queer-people_us_57920f33e4b00c9876cef2bf'"
      ]
     },
     "execution_count": 45,
     "metadata": {},
     "output_type": "execute_result"
    }
   ],
   "source": [
    "df.loc[0,'article_link']"
   ]
  },
  {
   "cell_type": "code",
   "execution_count": 32,
   "metadata": {
    "execution": {
     "iopub.execute_input": "2024-05-08T04:45:33.153623Z",
     "iopub.status.busy": "2024-05-08T04:45:33.153254Z",
     "iopub.status.idle": "2024-05-08T04:45:33.159846Z",
     "shell.execute_reply": "2024-05-08T04:45:33.158957Z",
     "shell.execute_reply.started": "2024-05-08T04:45:33.153594Z"
    },
    "trusted": true
   },
   "outputs": [
    {
     "data": {
      "text/plain": [
       "Index(['ID', 'article_link', 'text', 'label', 'article_text', 'combined_text'], dtype='object')"
      ]
     },
     "execution_count": 32,
     "metadata": {},
     "output_type": "execute_result"
    }
   ],
   "source": [
    "df.columns"
   ]
  },
  {
   "cell_type": "code",
   "execution_count": 46,
   "metadata": {
    "execution": {
     "iopub.execute_input": "2024-05-08T04:51:55.261633Z",
     "iopub.status.busy": "2024-05-08T04:51:55.260964Z",
     "iopub.status.idle": "2024-05-08T04:51:55.274521Z",
     "shell.execute_reply": "2024-05-08T04:51:55.273690Z",
     "shell.execute_reply.started": "2024-05-08T04:51:55.261602Z"
    },
    "trusted": true
   },
   "outputs": [
    {
     "data": {
      "text/html": [
       "<div>\n",
       "<style scoped>\n",
       "    .dataframe tbody tr th:only-of-type {\n",
       "        vertical-align: middle;\n",
       "    }\n",
       "\n",
       "    .dataframe tbody tr th {\n",
       "        vertical-align: top;\n",
       "    }\n",
       "\n",
       "    .dataframe thead th {\n",
       "        text-align: right;\n",
       "    }\n",
       "</style>\n",
       "<table border=\"1\" class=\"dataframe\">\n",
       "  <thead>\n",
       "    <tr style=\"text-align: right;\">\n",
       "      <th></th>\n",
       "      <th>text</th>\n",
       "      <th>label</th>\n",
       "    </tr>\n",
       "  </thead>\n",
       "  <tbody>\n",
       "    <tr>\n",
       "      <th>0</th>\n",
       "      <td>how trump really feels about queer people, exp...</td>\n",
       "      <td>0</td>\n",
       "    </tr>\n",
       "    <tr>\n",
       "      <th>1</th>\n",
       "      <td>egyptian death sentence for soccer fans puts p...</td>\n",
       "      <td>0</td>\n",
       "    </tr>\n",
       "    <tr>\n",
       "      <th>2</th>\n",
       "      <td>stripper failing school she's working self thr...</td>\n",
       "      <td>1</td>\n",
       "    </tr>\n",
       "    <tr>\n",
       "      <th>3</th>\n",
       "      <td>texas attorney general ken paxton indicted he ...</td>\n",
       "      <td>0</td>\n",
       "    </tr>\n",
       "    <tr>\n",
       "      <th>4</th>\n",
       "      <td>congresswoman fights for gun control because s...</td>\n",
       "      <td>0</td>\n",
       "    </tr>\n",
       "  </tbody>\n",
       "</table>\n",
       "</div>"
      ],
      "text/plain": [
       "                                                text  label\n",
       "0  how trump really feels about queer people, exp...      0\n",
       "1  egyptian death sentence for soccer fans puts p...      0\n",
       "2  stripper failing school she's working self thr...      1\n",
       "3  texas attorney general ken paxton indicted he ...      0\n",
       "4  congresswoman fights for gun control because s...      0"
      ]
     },
     "execution_count": 46,
     "metadata": {},
     "output_type": "execute_result"
    }
   ],
   "source": [
    "# Dropping multiple columns\n",
    "df['text']=df['article_text']\n",
    "df.drop(columns=['ID', 'article_link', 'article_text', 'combined_text'], inplace=True)\n",
    "df.head()"
   ]
  },
  {
   "cell_type": "markdown",
   "metadata": {},
   "source": [
    "# Splitting Data"
   ]
  },
  {
   "cell_type": "code",
   "execution_count": 47,
   "metadata": {
    "execution": {
     "iopub.execute_input": "2024-05-08T04:52:02.228910Z",
     "iopub.status.busy": "2024-05-08T04:52:02.227944Z",
     "iopub.status.idle": "2024-05-08T04:52:02.785527Z",
     "shell.execute_reply": "2024-05-08T04:52:02.784493Z",
     "shell.execute_reply.started": "2024-05-08T04:52:02.228866Z"
    },
    "trusted": true
   },
   "outputs": [
    {
     "name": "stdout",
     "output_type": "stream",
     "text": [
      "Train set size: (18316, 2)\n",
      "Validation set size: (4579, 2)\n"
     ]
    }
   ],
   "source": [
    "from sklearn.model_selection import train_test_split\n",
    "\n",
    "\n",
    "\n",
    "#(80% train, 20% test)\n",
    "train_df, val_df = train_test_split(df, test_size=0.2, random_state=42)\n",
    "\n",
    "#(20% divided into 10%+10%)\n",
    "# val_df, test_df = train_test_split(test_df, test_size=0.5, random_state=42)\n",
    "\n",
    "\n",
    "\n",
    "# Resetting the index of the DataFrame\n",
    "train_df = train_df.reset_index(drop=True)\n",
    "val_df = val_df.reset_index(drop=True)\n",
    "# test_df = test_df.reset_index(drop=True)\n",
    "print(\"Train set size:\", train_df.shape)\n",
    "print(\"Validation set size:\", val_df.shape)\n",
    "# print(\"Test set size:\", test_df.shape)"
   ]
  },
  {
   "cell_type": "code",
   "execution_count": 48,
   "metadata": {
    "execution": {
     "iopub.execute_input": "2024-05-08T04:52:06.472861Z",
     "iopub.status.busy": "2024-05-08T04:52:06.472505Z",
     "iopub.status.idle": "2024-05-08T04:52:06.477330Z",
     "shell.execute_reply": "2024-05-08T04:52:06.476385Z",
     "shell.execute_reply.started": "2024-05-08T04:52:06.472835Z"
    },
    "id": "UkrExSqJY3ma",
    "trusted": true
   },
   "outputs": [],
   "source": [
    "target_list = ['label']\n",
    "label_dict={0: \"label\"}"
   ]
  },
  {
   "cell_type": "markdown",
   "metadata": {},
   "source": [
    "# Model"
   ]
  },
  {
   "cell_type": "markdown",
   "metadata": {},
   "source": [
    "**Hyperparameters**"
   ]
  },
  {
   "cell_type": "code",
   "execution_count": 49,
   "metadata": {
    "execution": {
     "iopub.execute_input": "2024-05-08T04:52:09.183902Z",
     "iopub.status.busy": "2024-05-08T04:52:09.182998Z",
     "iopub.status.idle": "2024-05-08T04:52:09.188441Z",
     "shell.execute_reply": "2024-05-08T04:52:09.187306Z",
     "shell.execute_reply.started": "2024-05-08T04:52:09.183872Z"
    },
    "id": "qSjmKyYJIl2M",
    "trusted": true
   },
   "outputs": [],
   "source": [
    "MAX_LEN = 256\n",
    "TRAIN_BATCH_SIZE = 32\n",
    "VALID_BATCH_SIZE = 32\n",
    "EPOCHS = 2\n",
    "LEARNING_RATE = 1e-04"
   ]
  },
  {
   "cell_type": "markdown",
   "metadata": {},
   "source": [
    "## Loading BERT Model"
   ]
  },
  {
   "cell_type": "code",
   "execution_count": 50,
   "metadata": {
    "execution": {
     "iopub.execute_input": "2024-05-08T04:52:11.397894Z",
     "iopub.status.busy": "2024-05-08T04:52:11.396986Z",
     "iopub.status.idle": "2024-05-08T04:52:15.819228Z",
     "shell.execute_reply": "2024-05-08T04:52:15.818378Z",
     "shell.execute_reply.started": "2024-05-08T04:52:11.397855Z"
    },
    "id": "ATDXZ45xIlyq",
    "outputId": "824c251f-47ce-4e52-aa7e-1086cb62368f",
    "trusted": true
   },
   "outputs": [
    {
     "data": {
      "application/vnd.jupyter.widget-view+json": {
       "model_id": "e6c6ba14663341a58e99c4fdd86d334d",
       "version_major": 2,
       "version_minor": 0
      },
      "text/plain": [
       "tokenizer_config.json:   0%|          | 0.00/48.0 [00:00<?, ?B/s]"
      ]
     },
     "metadata": {},
     "output_type": "display_data"
    },
    {
     "data": {
      "application/vnd.jupyter.widget-view+json": {
       "model_id": "a139dfc272714409a3f5270db15857d8",
       "version_major": 2,
       "version_minor": 0
      },
      "text/plain": [
       "vocab.txt:   0%|          | 0.00/232k [00:00<?, ?B/s]"
      ]
     },
     "metadata": {},
     "output_type": "display_data"
    },
    {
     "data": {
      "application/vnd.jupyter.widget-view+json": {
       "model_id": "0df95d1c975f499a948da832263dc7e1",
       "version_major": 2,
       "version_minor": 0
      },
      "text/plain": [
       "tokenizer.json:   0%|          | 0.00/466k [00:00<?, ?B/s]"
      ]
     },
     "metadata": {},
     "output_type": "display_data"
    },
    {
     "data": {
      "application/vnd.jupyter.widget-view+json": {
       "model_id": "7d04fadff0de4dbdb38cf0805567d495",
       "version_major": 2,
       "version_minor": 0
      },
      "text/plain": [
       "config.json:   0%|          | 0.00/570 [00:00<?, ?B/s]"
      ]
     },
     "metadata": {},
     "output_type": "display_data"
    }
   ],
   "source": [
    "from transformers import BertTokenizer, BertModel\n",
    "\n",
    "tokenizer = BertTokenizer.from_pretrained('bert-base-uncased')"
   ]
  },
  {
   "cell_type": "code",
   "execution_count": 52,
   "metadata": {
    "execution": {
     "iopub.execute_input": "2024-05-08T04:52:27.255147Z",
     "iopub.status.busy": "2024-05-08T04:52:27.254752Z",
     "iopub.status.idle": "2024-05-08T04:52:27.264518Z",
     "shell.execute_reply": "2024-05-08T04:52:27.263494Z",
     "shell.execute_reply.started": "2024-05-08T04:52:27.255116Z"
    },
    "id": "2YXXbsj0Iltp",
    "trusted": true
   },
   "outputs": [],
   "source": [
    "class DatasetClass(torch.utils.data.Dataset):\n",
    "\n",
    "    def __init__(self, df, tokenizer, max_len):\n",
    "        self.tokenizer = tokenizer\n",
    "        self.df = df\n",
    "        self.text = df['text']\n",
    "        self.targets = self.df[target_list].values\n",
    "        self.max_len = max_len\n",
    "\n",
    "    def __len__(self):\n",
    "        return len(self.text)\n",
    "\n",
    "    def __getitem__(self, index):\n",
    "        text = str(self.text[index])\n",
    "        text = \" \".join(text.split())\n",
    "\n",
    "        inputs = self.tokenizer.encode_plus(\n",
    "            text,\n",
    "            None,\n",
    "            add_special_tokens=True,\n",
    "            max_length=self.max_len,\n",
    "            padding='max_length',\n",
    "            return_token_type_ids=True,\n",
    "            truncation=True,\n",
    "            return_attention_mask=True,\n",
    "            return_tensors='pt'\n",
    "        )\n",
    "\n",
    "        return {\n",
    "            'input_ids': inputs['input_ids'].flatten(),\n",
    "            'attention_mask': inputs['attention_mask'].flatten(),\n",
    "            'token_type_ids': inputs[\"token_type_ids\"].flatten(),\n",
    "            #'targets': torch.FloatTensor(self.targets[index])\n",
    "            'targets' : torch.FloatTensor(self.targets[index].astype(np.float32))  # Convert to PyTorch FloatTensor\n",
    "        }"
   ]
  },
  {
   "cell_type": "code",
   "execution_count": 53,
   "metadata": {
    "execution": {
     "iopub.execute_input": "2024-05-08T04:52:30.297703Z",
     "iopub.status.busy": "2024-05-08T04:52:30.296781Z",
     "iopub.status.idle": "2024-05-08T04:52:30.304134Z",
     "shell.execute_reply": "2024-05-08T04:52:30.303026Z",
     "shell.execute_reply.started": "2024-05-08T04:52:30.297669Z"
    },
    "id": "3uOisCRwZusM",
    "trusted": true
   },
   "outputs": [],
   "source": [
    "train_dataset = DatasetClass(train_df, tokenizer, MAX_LEN)\n",
    "valid_dataset = DatasetClass(val_df, tokenizer, MAX_LEN)"
   ]
  },
  {
   "cell_type": "code",
   "execution_count": 54,
   "metadata": {
    "execution": {
     "iopub.execute_input": "2024-05-08T04:52:32.710221Z",
     "iopub.status.busy": "2024-05-08T04:52:32.709841Z",
     "iopub.status.idle": "2024-05-08T04:52:32.716462Z",
     "shell.execute_reply": "2024-05-08T04:52:32.714608Z",
     "shell.execute_reply.started": "2024-05-08T04:52:32.710192Z"
    },
    "id": "ilHjQp6RSnsw",
    "trusted": true
   },
   "outputs": [],
   "source": [
    "train_data_loader = torch.utils.data.DataLoader(train_dataset, \n",
    "    batch_size=TRAIN_BATCH_SIZE,\n",
    "    shuffle=True,\n",
    "    num_workers=0\n",
    ")\n",
    "\n",
    "val_data_loader = torch.utils.data.DataLoader(valid_dataset, \n",
    "    batch_size=VALID_BATCH_SIZE,\n",
    "    shuffle=False,\n",
    "    num_workers=0\n",
    ")"
   ]
  },
  {
   "cell_type": "code",
   "execution_count": 55,
   "metadata": {
    "execution": {
     "iopub.execute_input": "2024-05-08T04:52:35.000612Z",
     "iopub.status.busy": "2024-05-08T04:52:35.000161Z",
     "iopub.status.idle": "2024-05-08T04:52:35.028988Z",
     "shell.execute_reply": "2024-05-08T04:52:35.027903Z",
     "shell.execute_reply.started": "2024-05-08T04:52:35.000563Z"
    },
    "id": "uRUtQwS5Snqa",
    "trusted": true
   },
   "outputs": [
    {
     "data": {
      "text/plain": [
       "device(type='cuda')"
      ]
     },
     "execution_count": 55,
     "metadata": {},
     "output_type": "execute_result"
    }
   ],
   "source": [
    "device = torch.device('cuda') if torch.cuda.is_available() else torch.device('cpu')\n",
    "device"
   ]
  },
  {
   "cell_type": "code",
   "execution_count": 56,
   "metadata": {
    "execution": {
     "iopub.execute_input": "2024-05-08T04:52:37.025218Z",
     "iopub.status.busy": "2024-05-08T04:52:37.024835Z",
     "iopub.status.idle": "2024-05-08T04:52:37.032272Z",
     "shell.execute_reply": "2024-05-08T04:52:37.031186Z",
     "shell.execute_reply.started": "2024-05-08T04:52:37.025188Z"
    },
    "id": "fGw1dRqwSnlK",
    "trusted": true
   },
   "outputs": [],
   "source": [
    "class FineTunedBERTClass(torch.nn.Module):\n",
    "    def __init__(self):\n",
    "        super(FineTunedBERTClass, self).__init__()\n",
    "        self.bert_model = BertModel.from_pretrained('bert-base-uncased', return_dict=True)\n",
    "        self.linear = torch.nn.Linear(768, 1)\n",
    "    \n",
    "    def forward(self, input_ids, attn_mask, token_type_ids):\n",
    "        output = self.bert_model(\n",
    "            input_ids, \n",
    "            attention_mask=attn_mask, \n",
    "            token_type_ids=token_type_ids\n",
    "        )\n",
    "        output = self.linear(output.pooler_output)\n",
    "        return output"
   ]
  },
  {
   "cell_type": "code",
   "execution_count": 57,
   "metadata": {
    "execution": {
     "iopub.execute_input": "2024-05-08T04:52:39.836251Z",
     "iopub.status.busy": "2024-05-08T04:52:39.835093Z",
     "iopub.status.idle": "2024-05-08T04:52:42.281165Z",
     "shell.execute_reply": "2024-05-08T04:52:42.280205Z",
     "shell.execute_reply.started": "2024-05-08T04:52:39.836214Z"
    },
    "trusted": true
   },
   "outputs": [
    {
     "data": {
      "application/vnd.jupyter.widget-view+json": {
       "model_id": "a8f843b42b2e414382b9195ff5ab3ca9",
       "version_major": 2,
       "version_minor": 0
      },
      "text/plain": [
       "model.safetensors:   0%|          | 0.00/440M [00:00<?, ?B/s]"
      ]
     },
     "metadata": {},
     "output_type": "display_data"
    },
    {
     "data": {
      "text/plain": [
       "FineTunedBERTClass(\n",
       "  (bert_model): BertModel(\n",
       "    (embeddings): BertEmbeddings(\n",
       "      (word_embeddings): Embedding(30522, 768, padding_idx=0)\n",
       "      (position_embeddings): Embedding(512, 768)\n",
       "      (token_type_embeddings): Embedding(2, 768)\n",
       "      (LayerNorm): LayerNorm((768,), eps=1e-12, elementwise_affine=True)\n",
       "      (dropout): Dropout(p=0.1, inplace=False)\n",
       "    )\n",
       "    (encoder): BertEncoder(\n",
       "      (layer): ModuleList(\n",
       "        (0-11): 12 x BertLayer(\n",
       "          (attention): BertAttention(\n",
       "            (self): BertSelfAttention(\n",
       "              (query): Linear(in_features=768, out_features=768, bias=True)\n",
       "              (key): Linear(in_features=768, out_features=768, bias=True)\n",
       "              (value): Linear(in_features=768, out_features=768, bias=True)\n",
       "              (dropout): Dropout(p=0.1, inplace=False)\n",
       "            )\n",
       "            (output): BertSelfOutput(\n",
       "              (dense): Linear(in_features=768, out_features=768, bias=True)\n",
       "              (LayerNorm): LayerNorm((768,), eps=1e-12, elementwise_affine=True)\n",
       "              (dropout): Dropout(p=0.1, inplace=False)\n",
       "            )\n",
       "          )\n",
       "          (intermediate): BertIntermediate(\n",
       "            (dense): Linear(in_features=768, out_features=3072, bias=True)\n",
       "            (intermediate_act_fn): GELUActivation()\n",
       "          )\n",
       "          (output): BertOutput(\n",
       "            (dense): Linear(in_features=3072, out_features=768, bias=True)\n",
       "            (LayerNorm): LayerNorm((768,), eps=1e-12, elementwise_affine=True)\n",
       "            (dropout): Dropout(p=0.1, inplace=False)\n",
       "          )\n",
       "        )\n",
       "      )\n",
       "    )\n",
       "    (pooler): BertPooler(\n",
       "      (dense): Linear(in_features=768, out_features=768, bias=True)\n",
       "      (activation): Tanh()\n",
       "    )\n",
       "  )\n",
       "  (linear): Linear(in_features=768, out_features=1, bias=True)\n",
       ")"
      ]
     },
     "execution_count": 57,
     "metadata": {},
     "output_type": "execute_result"
    }
   ],
   "source": [
    "model = FineTunedBERTClass()\n",
    "model.to(device)"
   ]
  },
  {
   "cell_type": "markdown",
   "metadata": {},
   "source": [
    "**We are using Binary Cross Entrpy With Logits as the loss function and Adam optimizer**\n",
    "\n",
    "Binary Cross Entropy worked better than binary multi label soft margin loss function"
   ]
  },
  {
   "cell_type": "code",
   "execution_count": 58,
   "metadata": {
    "execution": {
     "iopub.execute_input": "2024-05-08T04:52:45.668946Z",
     "iopub.status.busy": "2024-05-08T04:52:45.668519Z",
     "iopub.status.idle": "2024-05-08T04:52:45.673579Z",
     "shell.execute_reply": "2024-05-08T04:52:45.672615Z",
     "shell.execute_reply.started": "2024-05-08T04:52:45.668907Z"
    },
    "id": "R08BB9adUNI4",
    "trusted": true
   },
   "outputs": [],
   "source": [
    "def loss_fn_binaryCrossEntropyWithLogits(outputs, targets):\n",
    "    return torch.nn.BCEWithLogitsLoss()(outputs, targets)"
   ]
  },
  {
   "cell_type": "code",
   "execution_count": null,
   "metadata": {
    "trusted": true
   },
   "outputs": [],
   "source": [
    "# def loss_fn_multiLabelSoftMargin(outputs, targets):\n",
    "#     return nn.MultiLabelSoftMarginLoss()(outputs, targets)"
   ]
  },
  {
   "cell_type": "code",
   "execution_count": 61,
   "metadata": {
    "execution": {
     "iopub.execute_input": "2024-05-08T04:52:59.948729Z",
     "iopub.status.busy": "2024-05-08T04:52:59.948345Z",
     "iopub.status.idle": "2024-05-08T04:52:59.956016Z",
     "shell.execute_reply": "2024-05-08T04:52:59.955015Z",
     "shell.execute_reply.started": "2024-05-08T04:52:59.948699Z"
    },
    "id": "cuRmU5SXXY2u",
    "trusted": true
   },
   "outputs": [],
   "source": [
    "optimizer = torch.optim.Adam(params =  model.parameters(), lr=LEARNING_RATE)"
   ]
  },
  {
   "cell_type": "markdown",
   "metadata": {},
   "source": [
    "## Training"
   ]
  },
  {
   "cell_type": "code",
   "execution_count": 59,
   "metadata": {
    "execution": {
     "iopub.execute_input": "2024-05-08T04:52:48.565016Z",
     "iopub.status.busy": "2024-05-08T04:52:48.564416Z",
     "iopub.status.idle": "2024-05-08T04:52:48.578277Z",
     "shell.execute_reply": "2024-05-08T04:52:48.577195Z",
     "shell.execute_reply.started": "2024-05-08T04:52:48.564985Z"
    },
    "trusted": true
   },
   "outputs": [],
   "source": [
    "import torch\n",
    "from tqdm import tqdm\n",
    "import random\n",
    "\n",
    "# Set the seed for Python's random number generator\n",
    "seed = 42\n",
    "random.seed(seed)\n",
    "\n",
    "# Set the seed for NumPy\n",
    "np.random.seed(seed)\n",
    "\n",
    "# Set the seed for PyTorch\n",
    "torch.manual_seed(seed)\n",
    "\n",
    "# Set the seed for CUDA (GPU) if available\n",
    "if torch.cuda.is_available():\n",
    "    torch.cuda.manual_seed(seed)\n",
    "    torch.cuda.manual_seed_all(seed)\n",
    "\n",
    "# Additional configurations for deterministic behavior\n",
    "torch.backends.cudnn.deterministic = True\n",
    "torch.backends.cudnn.benchmark = False\n",
    "\n",
    "def train_model(n_epochs, training_loader, validation_loader, model, optimizer):\n",
    "    for epoch in range(1, n_epochs + 1):\n",
    "        model.train()\n",
    "        train_loss = 0.0  # Track total training loss for the epoch\n",
    "        with tqdm(total=len(training_loader), desc=f\"Epoch {epoch}/{n_epochs}\", unit=\"batch\") as pbar:\n",
    "            for batch_idx, data in enumerate(training_loader):\n",
    "                ids = data['input_ids'].to(device)\n",
    "                mask = data['attention_mask'].to(device)\n",
    "                token_type_ids = data['token_type_ids'].to(device)\n",
    "                targets = data['targets'].to(device)\n",
    "\n",
    "                optimizer.zero_grad()\n",
    "                outputs = model(ids, mask, token_type_ids)\n",
    "                loss = loss_fn_binaryCrossEntropyWithLogits(outputs, targets)\n",
    "                loss.backward()\n",
    "                optimizer.step()\n",
    "\n",
    "                train_loss += loss.item() * len(ids)  # Accumulate the training loss for the batch\n",
    "                pbar.set_postfix({'Training Loss': train_loss / len(training_loader.dataset)})\n",
    "                pbar.update()\n",
    "\n",
    "        # Calculate average training loss for the epoch\n",
    "        train_loss /= len(training_loader.dataset)\n",
    "        \n",
    "        # Validation loop\n",
    "        model.eval()\n",
    "        val_loss = 0.0\n",
    "        with torch.no_grad():\n",
    "            for data in validation_loader:\n",
    "                ids = data['input_ids'].to(device)\n",
    "                mask = data['attention_mask'].to(device)\n",
    "                token_type_ids = data['token_type_ids'].to(device)\n",
    "                targets = data['targets'].to(device)\n",
    "\n",
    "                outputs = model(ids, mask, token_type_ids)\n",
    "                loss = loss_fn_binaryCrossEntropyWithLogits(outputs, targets)\n",
    "                val_loss += loss.item() * len(ids)\n",
    "\n",
    "        # Calculate average validation loss for the epoch\n",
    "        val_loss /= len(validation_loader.dataset)\n",
    "\n",
    "        print(f\"Epoch {epoch}/{n_epochs}, Training Loss: {train_loss:.4f}, Validation Loss: {val_loss:.4f}\")\n"
   ]
  },
  {
   "cell_type": "code",
   "execution_count": 62,
   "metadata": {
    "execution": {
     "iopub.execute_input": "2024-05-08T04:53:03.462516Z",
     "iopub.status.busy": "2024-05-08T04:53:03.461808Z",
     "iopub.status.idle": "2024-05-08T05:20:08.783685Z",
     "shell.execute_reply": "2024-05-08T05:20:08.782737Z",
     "shell.execute_reply.started": "2024-05-08T04:53:03.462484Z"
    },
    "id": "YgD-KcHfVWjS",
    "outputId": "3bacc6a2-4bad-463d-8f90-06a60055e8ed",
    "trusted": true
   },
   "outputs": [
    {
     "name": "stderr",
     "output_type": "stream",
     "text": [
      "Epoch 1/2: 100%|██████████| 573/573 [11:46<00:00,  1.23s/batch, Training Loss=0.0897]\n"
     ]
    },
    {
     "name": "stdout",
     "output_type": "stream",
     "text": [
      "Epoch 1/2, Training Loss: 0.0897, Validation Loss: 0.0596\n"
     ]
    },
    {
     "name": "stderr",
     "output_type": "stream",
     "text": [
      "Epoch 2/2: 100%|██████████| 573/573 [11:47<00:00,  1.23s/batch, Training Loss=0.0628] \n"
     ]
    },
    {
     "name": "stdout",
     "output_type": "stream",
     "text": [
      "Epoch 2/2, Training Loss: 0.0628, Validation Loss: 0.0834\n"
     ]
    }
   ],
   "source": [
    "trained_model = train_model(EPOCHS, train_data_loader, val_data_loader, model, optimizer)"
   ]
  },
  {
   "cell_type": "code",
   "execution_count": 103,
   "metadata": {
    "execution": {
     "iopub.execute_input": "2024-05-08T05:41:33.114497Z",
     "iopub.status.busy": "2024-05-08T05:41:33.113591Z",
     "iopub.status.idle": "2024-05-08T05:41:33.775370Z",
     "shell.execute_reply": "2024-05-08T05:41:33.774521Z",
     "shell.execute_reply.started": "2024-05-08T05:41:33.114464Z"
    },
    "trusted": true
   },
   "outputs": [],
   "source": [
    "torch.save(model.state_dict(), '/kaggle/working/my_model_bert.pth')"
   ]
  },
  {
   "cell_type": "markdown",
   "metadata": {},
   "source": [
    "**Testing** -> Use Inference Script to load model and test"
   ]
  },
  {
   "cell_type": "markdown",
   "metadata": {},
   "source": [
    "# Testing"
   ]
  },
  {
   "cell_type": "code",
   "execution_count": 139,
   "metadata": {
    "execution": {
     "iopub.execute_input": "2024-05-08T06:02:39.241144Z",
     "iopub.status.busy": "2024-05-08T06:02:39.240748Z",
     "iopub.status.idle": "2024-05-08T06:02:39.265477Z",
     "shell.execute_reply": "2024-05-08T06:02:39.264581Z",
     "shell.execute_reply.started": "2024-05-08T06:02:39.241115Z"
    },
    "trusted": true
   },
   "outputs": [
    {
     "data": {
      "text/plain": [
       "(5724, 3)"
      ]
     },
     "execution_count": 139,
     "metadata": {},
     "output_type": "execute_result"
    }
   ],
   "source": [
    "test_df2 = pd.read_csv(\"/kaggle/input/sarcasmdetect/test_data.csv\")\n",
    "test_df2.shape"
   ]
  },
  {
   "cell_type": "code",
   "execution_count": 165,
   "metadata": {
    "execution": {
     "iopub.execute_input": "2024-05-08T06:14:40.704420Z",
     "iopub.status.busy": "2024-05-08T06:14:40.704086Z",
     "iopub.status.idle": "2024-05-08T06:14:41.134589Z",
     "shell.execute_reply": "2024-05-08T06:14:41.133521Z",
     "shell.execute_reply.started": "2024-05-08T06:14:40.704392Z"
    },
    "trusted": true
   },
   "outputs": [],
   "source": [
    "import pandas as pd\n",
    "\n",
    "# Read the CSV file into DataFrame\n",
    "test_df = pd.read_csv(\"/kaggle/input/sarcasm-scraped-new/data/sarcasm_scraped_test.csv\")"
   ]
  },
  {
   "cell_type": "code",
   "execution_count": 160,
   "metadata": {
    "execution": {
     "iopub.execute_input": "2024-05-08T06:11:26.013036Z",
     "iopub.status.busy": "2024-05-08T06:11:26.012467Z",
     "iopub.status.idle": "2024-05-08T06:11:26.024251Z",
     "shell.execute_reply": "2024-05-08T06:11:26.023233Z",
     "shell.execute_reply.started": "2024-05-08T06:11:26.013005Z"
    },
    "trusted": true
   },
   "outputs": [
    {
     "data": {
      "text/plain": [
       "ID               0\n",
       "article_link     2\n",
       "text             2\n",
       "article_text    60\n",
       "dtype: int64"
      ]
     },
     "execution_count": 160,
     "metadata": {},
     "output_type": "execute_result"
    }
   ],
   "source": [
    "test_df.isnull().sum()"
   ]
  },
  {
   "cell_type": "code",
   "execution_count": 166,
   "metadata": {
    "execution": {
     "iopub.execute_input": "2024-05-08T06:14:47.225144Z",
     "iopub.status.busy": "2024-05-08T06:14:47.224657Z",
     "iopub.status.idle": "2024-05-08T06:14:47.232697Z",
     "shell.execute_reply": "2024-05-08T06:14:47.231838Z",
     "shell.execute_reply.started": "2024-05-08T06:14:47.225113Z"
    },
    "trusted": true
   },
   "outputs": [],
   "source": [
    "test_df = test_df[~(test_df['article_link'].isnull())]"
   ]
  },
  {
   "cell_type": "code",
   "execution_count": 169,
   "metadata": {
    "execution": {
     "iopub.execute_input": "2024-05-08T06:15:18.639311Z",
     "iopub.status.busy": "2024-05-08T06:15:18.638572Z",
     "iopub.status.idle": "2024-05-08T06:15:18.644907Z",
     "shell.execute_reply": "2024-05-08T06:15:18.643867Z",
     "shell.execute_reply.started": "2024-05-08T06:15:18.639278Z"
    },
    "trusted": true
   },
   "outputs": [],
   "source": [
    "test_df = test_df.reset_index()"
   ]
  },
  {
   "cell_type": "code",
   "execution_count": 171,
   "metadata": {
    "execution": {
     "iopub.execute_input": "2024-05-08T06:16:22.311249Z",
     "iopub.status.busy": "2024-05-08T06:16:22.310474Z",
     "iopub.status.idle": "2024-05-08T06:16:22.317958Z",
     "shell.execute_reply": "2024-05-08T06:16:22.316699Z",
     "shell.execute_reply.started": "2024-05-08T06:16:22.311215Z"
    },
    "trusted": true
   },
   "outputs": [],
   "source": [
    "test_df.drop(['index'], axis =1, inplace = True)"
   ]
  },
  {
   "cell_type": "code",
   "execution_count": 172,
   "metadata": {
    "execution": {
     "iopub.execute_input": "2024-05-08T06:16:24.585230Z",
     "iopub.status.busy": "2024-05-08T06:16:24.584760Z",
     "iopub.status.idle": "2024-05-08T06:16:24.596325Z",
     "shell.execute_reply": "2024-05-08T06:16:24.595312Z",
     "shell.execute_reply.started": "2024-05-08T06:16:24.585199Z"
    },
    "trusted": true
   },
   "outputs": [
    {
     "data": {
      "text/plain": [
       "ID               0\n",
       "article_link     0\n",
       "text             0\n",
       "article_text    58\n",
       "dtype: int64"
      ]
     },
     "execution_count": 172,
     "metadata": {},
     "output_type": "execute_result"
    }
   ],
   "source": [
    "test_df.isnull().sum()"
   ]
  },
  {
   "cell_type": "code",
   "execution_count": 173,
   "metadata": {
    "execution": {
     "iopub.execute_input": "2024-05-08T06:16:32.245773Z",
     "iopub.status.busy": "2024-05-08T06:16:32.245049Z",
     "iopub.status.idle": "2024-05-08T06:16:32.342275Z",
     "shell.execute_reply": "2024-05-08T06:16:32.341465Z",
     "shell.execute_reply.started": "2024-05-08T06:16:32.245744Z"
    },
    "trusted": true
   },
   "outputs": [],
   "source": [
    "# Fill missing values in 'article_text' column with empty strings\n",
    "test_df['article_text'] = test_df['article_text'].fillna(\"\")\n",
    "test_df['text'] = test_df['text'].fillna(\"\")\n",
    "\n",
    "\n",
    "# Define a function to combine 'text' and 'article_text' columns\n",
    "def combine(x):\n",
    "    if x['article_text'] == \"\":\n",
    "        return x['text']\n",
    "    else:\n",
    "        return x['article_text']\n",
    "\n",
    "# Apply the combine function to create the 'combined_text' column\n",
    "test_df['combined_text'] = test_df.apply(combine, axis=1)"
   ]
  },
  {
   "cell_type": "code",
   "execution_count": 174,
   "metadata": {
    "execution": {
     "iopub.execute_input": "2024-05-08T06:16:35.077000Z",
     "iopub.status.busy": "2024-05-08T06:16:35.076355Z",
     "iopub.status.idle": "2024-05-08T06:16:41.111644Z",
     "shell.execute_reply": "2024-05-08T06:16:41.110874Z",
     "shell.execute_reply.started": "2024-05-08T06:16:35.076968Z"
    },
    "trusted": true
   },
   "outputs": [],
   "source": [
    "test_df = test_df.apply(preprocess, axis=1)"
   ]
  },
  {
   "cell_type": "code",
   "execution_count": 80,
   "metadata": {
    "execution": {
     "iopub.execute_input": "2024-05-08T05:32:32.772019Z",
     "iopub.status.busy": "2024-05-08T05:32:32.771624Z",
     "iopub.status.idle": "2024-05-08T05:32:32.784419Z",
     "shell.execute_reply": "2024-05-08T05:32:32.783274Z",
     "shell.execute_reply.started": "2024-05-08T05:32:32.771987Z"
    },
    "trusted": true
   },
   "outputs": [
    {
     "data": {
      "text/html": [
       "<div>\n",
       "<style scoped>\n",
       "    .dataframe tbody tr th:only-of-type {\n",
       "        vertical-align: middle;\n",
       "    }\n",
       "\n",
       "    .dataframe tbody tr th {\n",
       "        vertical-align: top;\n",
       "    }\n",
       "\n",
       "    .dataframe thead th {\n",
       "        text-align: right;\n",
       "    }\n",
       "</style>\n",
       "<table border=\"1\" class=\"dataframe\">\n",
       "  <thead>\n",
       "    <tr style=\"text-align: right;\">\n",
       "      <th></th>\n",
       "      <th>ID</th>\n",
       "      <th>article_link</th>\n",
       "      <th>text</th>\n",
       "      <th>article_text</th>\n",
       "      <th>combined_text</th>\n",
       "    </tr>\n",
       "  </thead>\n",
       "  <tbody>\n",
       "    <tr>\n",
       "      <th>0</th>\n",
       "      <td>27927</td>\n",
       "      <td>https://www.huffingtonpost.com/entry/teacher-e...</td>\n",
       "      <td>states slow to shut down weak teacher educatio...</td>\n",
       "      <td>states slow to shut down weak teacher educatio...</td>\n",
       "      <td>States Slow To Shut Down Weak Teacher Educatio...</td>\n",
       "    </tr>\n",
       "    <tr>\n",
       "      <th>1</th>\n",
       "      <td>1660</td>\n",
       "      <td>https://www.theonion.com/drone-places-fresh-ki...</td>\n",
       "      <td>drone places fresh kill on steps of white house</td>\n",
       "      <td>drone places fresh kill on steps of white house .</td>\n",
       "      <td>Drone Places Fresh Kill On Steps Of White Hous...</td>\n",
       "    </tr>\n",
       "    <tr>\n",
       "      <th>2</th>\n",
       "      <td>96</td>\n",
       "      <td>https://www.theonion.com/report-majority-of-in...</td>\n",
       "      <td>report: majority of instances of people gettin...</td>\n",
       "      <td>report: majority of instances of people gettin...</td>\n",
       "      <td>Report: Majority Of Instances Of People Gettin...</td>\n",
       "    </tr>\n",
       "    <tr>\n",
       "      <th>3</th>\n",
       "      <td>6237</td>\n",
       "      <td>https://local.theonion.com/sole-remaining-lung...</td>\n",
       "      <td>sole remaining lung filled with rich, satisfyi...</td>\n",
       "      <td>sole remaining lung filled with rich, satisfyi...</td>\n",
       "      <td>Sole Remaining Lung Filled With Rich, Satisfyi...</td>\n",
       "    </tr>\n",
       "    <tr>\n",
       "      <th>4</th>\n",
       "      <td>6650</td>\n",
       "      <td>https://www.huffingtonpost.com/entry/the-gops-...</td>\n",
       "      <td>the gop's stockholm syndrome</td>\n",
       "      <td>the gop's stockholm syndrome like many victims...</td>\n",
       "      <td>The GOP's Stockholm Syndrome | HuffPost Latest...</td>\n",
       "    </tr>\n",
       "  </tbody>\n",
       "</table>\n",
       "</div>"
      ],
      "text/plain": [
       "      ID                                       article_link  \\\n",
       "0  27927  https://www.huffingtonpost.com/entry/teacher-e...   \n",
       "1   1660  https://www.theonion.com/drone-places-fresh-ki...   \n",
       "2     96  https://www.theonion.com/report-majority-of-in...   \n",
       "3   6237  https://local.theonion.com/sole-remaining-lung...   \n",
       "4   6650  https://www.huffingtonpost.com/entry/the-gops-...   \n",
       "\n",
       "                                                text  \\\n",
       "0  states slow to shut down weak teacher educatio...   \n",
       "1    drone places fresh kill on steps of white house   \n",
       "2  report: majority of instances of people gettin...   \n",
       "3  sole remaining lung filled with rich, satisfyi...   \n",
       "4                       the gop's stockholm syndrome   \n",
       "\n",
       "                                        article_text  \\\n",
       "0  states slow to shut down weak teacher educatio...   \n",
       "1  drone places fresh kill on steps of white house .   \n",
       "2  report: majority of instances of people gettin...   \n",
       "3  sole remaining lung filled with rich, satisfyi...   \n",
       "4  the gop's stockholm syndrome like many victims...   \n",
       "\n",
       "                                       combined_text  \n",
       "0  States Slow To Shut Down Weak Teacher Educatio...  \n",
       "1  Drone Places Fresh Kill On Steps Of White Hous...  \n",
       "2  Report: Majority Of Instances Of People Gettin...  \n",
       "3  Sole Remaining Lung Filled With Rich, Satisfyi...  \n",
       "4  The GOP's Stockholm Syndrome | HuffPost Latest...  "
      ]
     },
     "execution_count": 80,
     "metadata": {},
     "output_type": "execute_result"
    }
   ],
   "source": [
    "test_df.head()"
   ]
  },
  {
   "cell_type": "code",
   "execution_count": 82,
   "metadata": {
    "execution": {
     "iopub.execute_input": "2024-05-08T05:33:06.496282Z",
     "iopub.status.busy": "2024-05-08T05:33:06.495380Z",
     "iopub.status.idle": "2024-05-08T05:33:06.502101Z",
     "shell.execute_reply": "2024-05-08T05:33:06.501112Z",
     "shell.execute_reply.started": "2024-05-08T05:33:06.496250Z"
    },
    "trusted": true
   },
   "outputs": [
    {
     "data": {
      "text/plain": [
       "Index(['ID', 'article_link', 'text', 'article_text', 'combined_text'], dtype='object')"
      ]
     },
     "execution_count": 82,
     "metadata": {},
     "output_type": "execute_result"
    }
   ],
   "source": [
    "test_df.columns"
   ]
  },
  {
   "cell_type": "code",
   "execution_count": 175,
   "metadata": {
    "execution": {
     "iopub.execute_input": "2024-05-08T06:16:41.114803Z",
     "iopub.status.busy": "2024-05-08T06:16:41.114521Z",
     "iopub.status.idle": "2024-05-08T06:16:41.126899Z",
     "shell.execute_reply": "2024-05-08T06:16:41.125964Z",
     "shell.execute_reply.started": "2024-05-08T06:16:41.114778Z"
    },
    "trusted": true
   },
   "outputs": [
    {
     "data": {
      "text/html": [
       "<div>\n",
       "<style scoped>\n",
       "    .dataframe tbody tr th:only-of-type {\n",
       "        vertical-align: middle;\n",
       "    }\n",
       "\n",
       "    .dataframe tbody tr th {\n",
       "        vertical-align: top;\n",
       "    }\n",
       "\n",
       "    .dataframe thead th {\n",
       "        text-align: right;\n",
       "    }\n",
       "</style>\n",
       "<table border=\"1\" class=\"dataframe\">\n",
       "  <thead>\n",
       "    <tr style=\"text-align: right;\">\n",
       "      <th></th>\n",
       "      <th>ID</th>\n",
       "      <th>text</th>\n",
       "    </tr>\n",
       "  </thead>\n",
       "  <tbody>\n",
       "    <tr>\n",
       "      <th>0</th>\n",
       "      <td>27927</td>\n",
       "      <td>states slow to shut down weak teacher educatio...</td>\n",
       "    </tr>\n",
       "    <tr>\n",
       "      <th>1</th>\n",
       "      <td>1660</td>\n",
       "      <td>drone places fresh kill on steps of white house .</td>\n",
       "    </tr>\n",
       "    <tr>\n",
       "      <th>2</th>\n",
       "      <td>96</td>\n",
       "      <td>report: majority of instances of people gettin...</td>\n",
       "    </tr>\n",
       "    <tr>\n",
       "      <th>3</th>\n",
       "      <td>6237</td>\n",
       "      <td>sole remaining lung filled with rich, satisfyi...</td>\n",
       "    </tr>\n",
       "    <tr>\n",
       "      <th>4</th>\n",
       "      <td>6650</td>\n",
       "      <td>the gop's stockholm syndrome like many victims...</td>\n",
       "    </tr>\n",
       "  </tbody>\n",
       "</table>\n",
       "</div>"
      ],
      "text/plain": [
       "      ID                                               text\n",
       "0  27927  states slow to shut down weak teacher educatio...\n",
       "1   1660  drone places fresh kill on steps of white house .\n",
       "2     96  report: majority of instances of people gettin...\n",
       "3   6237  sole remaining lung filled with rich, satisfyi...\n",
       "4   6650  the gop's stockholm syndrome like many victims..."
      ]
     },
     "execution_count": 175,
     "metadata": {},
     "output_type": "execute_result"
    }
   ],
   "source": [
    "\n",
    "# Dropping multiple columns\n",
    "test_df['text']=test_df['article_text']\n",
    "test_df.drop(columns=['article_link', 'article_text', 'combined_text'], inplace=True)\n",
    "test_df.head()"
   ]
  },
  {
   "cell_type": "code",
   "execution_count": 176,
   "metadata": {
    "execution": {
     "iopub.execute_input": "2024-05-08T06:16:41.428834Z",
     "iopub.status.busy": "2024-05-08T06:16:41.428124Z",
     "iopub.status.idle": "2024-05-08T06:16:41.639493Z",
     "shell.execute_reply": "2024-05-08T06:16:41.638386Z",
     "shell.execute_reply.started": "2024-05-08T06:16:41.428784Z"
    },
    "trusted": true
   },
   "outputs": [],
   "source": [
    "from transformers import BertTokenizer, BertModel\n",
    "\n",
    "tokenizer = BertTokenizer.from_pretrained('bert-base-uncased')"
   ]
  },
  {
   "cell_type": "code",
   "execution_count": 177,
   "metadata": {
    "execution": {
     "iopub.execute_input": "2024-05-08T06:16:46.305706Z",
     "iopub.status.busy": "2024-05-08T06:16:46.304992Z",
     "iopub.status.idle": "2024-05-08T06:16:46.314347Z",
     "shell.execute_reply": "2024-05-08T06:16:46.313352Z",
     "shell.execute_reply.started": "2024-05-08T06:16:46.305673Z"
    },
    "trusted": true
   },
   "outputs": [],
   "source": [
    "class DatasetClass(torch.utils.data.Dataset):\n",
    "\n",
    "    def __init__(self, df, tokenizer, max_len):\n",
    "        self.tokenizer = tokenizer\n",
    "        self.df = df\n",
    "        self.text = df['text']\n",
    "        self.max_len = max_len\n",
    "\n",
    "    def __len__(self):\n",
    "        return len(self.text)\n",
    "\n",
    "    def __getitem__(self, index):\n",
    "        text = str(self.text[index])\n",
    "        text = \" \".join(text.split())\n",
    "\n",
    "        inputs = self.tokenizer.encode_plus(\n",
    "            text,\n",
    "            None,\n",
    "            add_special_tokens=True,\n",
    "            max_length=self.max_len,\n",
    "            padding='max_length',\n",
    "            return_token_type_ids=True,\n",
    "            truncation=True,\n",
    "            return_attention_mask=True,\n",
    "            return_tensors='pt'\n",
    "        )\n",
    "\n",
    "        return {\n",
    "            'input_ids': inputs['input_ids'].flatten(),\n",
    "            'attention_mask': inputs['attention_mask'].flatten(),\n",
    "            'token_type_ids': inputs[\"token_type_ids\"].flatten()\n",
    "        }\n"
   ]
  },
  {
   "cell_type": "code",
   "execution_count": 178,
   "metadata": {
    "execution": {
     "iopub.execute_input": "2024-05-08T06:16:48.282402Z",
     "iopub.status.busy": "2024-05-08T06:16:48.281692Z",
     "iopub.status.idle": "2024-05-08T06:16:48.286729Z",
     "shell.execute_reply": "2024-05-08T06:16:48.285760Z",
     "shell.execute_reply.started": "2024-05-08T06:16:48.282369Z"
    },
    "trusted": true
   },
   "outputs": [],
   "source": [
    "test_dataset = DatasetClass(test_df, tokenizer, MAX_LEN)"
   ]
  },
  {
   "cell_type": "code",
   "execution_count": 179,
   "metadata": {
    "execution": {
     "iopub.execute_input": "2024-05-08T06:16:49.591251Z",
     "iopub.status.busy": "2024-05-08T06:16:49.590524Z",
     "iopub.status.idle": "2024-05-08T06:16:49.595158Z",
     "shell.execute_reply": "2024-05-08T06:16:49.594218Z",
     "shell.execute_reply.started": "2024-05-08T06:16:49.591220Z"
    },
    "trusted": true
   },
   "outputs": [],
   "source": [
    "MAX_LEN=256\n",
    "TEST_BATCH_SIZE=32"
   ]
  },
  {
   "cell_type": "code",
   "execution_count": 180,
   "metadata": {
    "execution": {
     "iopub.execute_input": "2024-05-08T06:16:50.887771Z",
     "iopub.status.busy": "2024-05-08T06:16:50.887033Z",
     "iopub.status.idle": "2024-05-08T06:16:50.894005Z",
     "shell.execute_reply": "2024-05-08T06:16:50.892942Z",
     "shell.execute_reply.started": "2024-05-08T06:16:50.887740Z"
    },
    "trusted": true
   },
   "outputs": [],
   "source": [
    "test_data_loader = torch.utils.data.DataLoader(test_dataset, \n",
    "    batch_size=TEST_BATCH_SIZE,\n",
    "    shuffle=False,\n",
    "    num_workers=0\n",
    ")"
   ]
  },
  {
   "cell_type": "code",
   "execution_count": 181,
   "metadata": {
    "execution": {
     "iopub.execute_input": "2024-05-08T06:16:52.501693Z",
     "iopub.status.busy": "2024-05-08T06:16:52.501024Z",
     "iopub.status.idle": "2024-05-08T06:16:52.505592Z",
     "shell.execute_reply": "2024-05-08T06:16:52.504575Z",
     "shell.execute_reply.started": "2024-05-08T06:16:52.501661Z"
    },
    "trusted": true
   },
   "outputs": [],
   "source": [
    "#global all_targets\n",
    "global all_outputs"
   ]
  },
  {
   "cell_type": "code",
   "execution_count": 182,
   "metadata": {
    "execution": {
     "iopub.execute_input": "2024-05-08T06:16:53.808316Z",
     "iopub.status.busy": "2024-05-08T06:16:53.807488Z",
     "iopub.status.idle": "2024-05-08T06:16:53.818037Z",
     "shell.execute_reply": "2024-05-08T06:16:53.817084Z",
     "shell.execute_reply.started": "2024-05-08T06:16:53.808284Z"
    },
    "trusted": true
   },
   "outputs": [],
   "source": [
    "#all_targets = []\n",
    "all_outputs = []"
   ]
  },
  {
   "cell_type": "code",
   "execution_count": 183,
   "metadata": {
    "execution": {
     "iopub.execute_input": "2024-05-08T06:16:55.531110Z",
     "iopub.status.busy": "2024-05-08T06:16:55.530725Z",
     "iopub.status.idle": "2024-05-08T06:16:55.539953Z",
     "shell.execute_reply": "2024-05-08T06:16:55.538961Z",
     "shell.execute_reply.started": "2024-05-08T06:16:55.531081Z"
    },
    "trusted": true
   },
   "outputs": [],
   "source": [
    "from sklearn.metrics import precision_score, recall_score, f1_score\n",
    "import numpy as np\n",
    "from tabulate import tabulate\n",
    "\n",
    "\n",
    "def evaluate_model(model, dataloader, all_outputs):\n",
    "    model.eval()\n",
    "    #all_targets = []\n",
    "    #all_outputs = []\n",
    "\n",
    "    with torch.no_grad():\n",
    "        for data in dataloader:\n",
    "            ids = data['input_ids'].to(device, dtype=torch.long)\n",
    "            mask = data['attention_mask'].to(device, dtype=torch.long)\n",
    "            token_type_ids = data['token_type_ids'].to(device, dtype=torch.long)\n",
    "            #targets = data['targets'].to(device, dtype=torch.float)\n",
    "            \n",
    "            outputs = model(ids, mask, token_type_ids)\n",
    "            \n",
    "            #all_targets.extend(torch.tensor(targets.cpu().detach().numpy()))\n",
    "            all_outputs.extend(torch.round(torch.tensor(torch.sigmoid(outputs).cpu().detach().numpy())))\n",
    "\n",
    "    #all_targets = np.array(all_targets)\n",
    "    all_outputs = np.array(all_outputs)\n",
    "\n",
    "        \n",
    "    print(\"Predicted Output:\\n\",all_outputs[:5])\n",
    "    \n",
    "    return all_outputs\n"
   ]
  },
  {
   "cell_type": "code",
   "execution_count": 184,
   "metadata": {
    "execution": {
     "iopub.execute_input": "2024-05-08T06:16:57.927425Z",
     "iopub.status.busy": "2024-05-08T06:16:57.927064Z",
     "iopub.status.idle": "2024-05-08T06:19:24.179570Z",
     "shell.execute_reply": "2024-05-08T06:19:24.178486Z",
     "shell.execute_reply.started": "2024-05-08T06:16:57.927395Z"
    },
    "trusted": true
   },
   "outputs": [
    {
     "name": "stdout",
     "output_type": "stream",
     "text": [
      "Predicted Output:\n",
      " [[0.]\n",
      " [1.]\n",
      " [1.]\n",
      " [1.]\n",
      " [0.]]\n"
     ]
    }
   ],
   "source": [
    "predicted_output=evaluate_model(model, test_data_loader, all_outputs)"
   ]
  },
  {
   "cell_type": "code",
   "execution_count": 185,
   "metadata": {
    "execution": {
     "iopub.execute_input": "2024-05-08T06:19:41.659596Z",
     "iopub.status.busy": "2024-05-08T06:19:41.659213Z",
     "iopub.status.idle": "2024-05-08T06:19:41.665171Z",
     "shell.execute_reply": "2024-05-08T06:19:41.664177Z",
     "shell.execute_reply.started": "2024-05-08T06:19:41.659566Z"
    },
    "trusted": true
   },
   "outputs": [
    {
     "name": "stdout",
     "output_type": "stream",
     "text": [
      "[[0.]\n",
      " [1.]\n",
      " [1.]\n",
      " ...\n",
      " [0.]\n",
      " [0.]\n",
      " [1.]]\n"
     ]
    }
   ],
   "source": [
    "print(predicted_output)"
   ]
  },
  {
   "cell_type": "code",
   "execution_count": 186,
   "metadata": {
    "execution": {
     "iopub.execute_input": "2024-05-08T06:19:44.102333Z",
     "iopub.status.busy": "2024-05-08T06:19:44.101631Z",
     "iopub.status.idle": "2024-05-08T06:19:44.108594Z",
     "shell.execute_reply": "2024-05-08T06:19:44.107544Z",
     "shell.execute_reply.started": "2024-05-08T06:19:44.102304Z"
    },
    "trusted": true
   },
   "outputs": [],
   "source": [
    "# Assuming you have 'predicted_output' as a list containing the predicted values\n",
    "\n",
    "# Append 'pred_output' column to the DataFrame\n",
    "test_df['pred_output'] = predicted_output\n",
    "\n",
    "# Drop the 'text' column\n",
    "test_df.drop(columns=['text'], inplace=True)\n"
   ]
  },
  {
   "cell_type": "code",
   "execution_count": 95,
   "metadata": {
    "execution": {
     "iopub.execute_input": "2024-05-08T05:37:11.944046Z",
     "iopub.status.busy": "2024-05-08T05:37:11.943562Z",
     "iopub.status.idle": "2024-05-08T05:37:11.954549Z",
     "shell.execute_reply": "2024-05-08T05:37:11.953587Z",
     "shell.execute_reply.started": "2024-05-08T05:37:11.944013Z"
    },
    "trusted": true
   },
   "outputs": [
    {
     "data": {
      "text/html": [
       "<div>\n",
       "<style scoped>\n",
       "    .dataframe tbody tr th:only-of-type {\n",
       "        vertical-align: middle;\n",
       "    }\n",
       "\n",
       "    .dataframe tbody tr th {\n",
       "        vertical-align: top;\n",
       "    }\n",
       "\n",
       "    .dataframe thead th {\n",
       "        text-align: right;\n",
       "    }\n",
       "</style>\n",
       "<table border=\"1\" class=\"dataframe\">\n",
       "  <thead>\n",
       "    <tr style=\"text-align: right;\">\n",
       "      <th></th>\n",
       "      <th>ID</th>\n",
       "      <th>pred_output</th>\n",
       "    </tr>\n",
       "  </thead>\n",
       "  <tbody>\n",
       "    <tr>\n",
       "      <th>0</th>\n",
       "      <td>27927</td>\n",
       "      <td>0.0</td>\n",
       "    </tr>\n",
       "    <tr>\n",
       "      <th>1</th>\n",
       "      <td>1660</td>\n",
       "      <td>1.0</td>\n",
       "    </tr>\n",
       "    <tr>\n",
       "      <th>2</th>\n",
       "      <td>96</td>\n",
       "      <td>1.0</td>\n",
       "    </tr>\n",
       "    <tr>\n",
       "      <th>3</th>\n",
       "      <td>6237</td>\n",
       "      <td>1.0</td>\n",
       "    </tr>\n",
       "    <tr>\n",
       "      <th>4</th>\n",
       "      <td>6650</td>\n",
       "      <td>0.0</td>\n",
       "    </tr>\n",
       "  </tbody>\n",
       "</table>\n",
       "</div>"
      ],
      "text/plain": [
       "      ID  pred_output\n",
       "0  27927          0.0\n",
       "1   1660          1.0\n",
       "2     96          1.0\n",
       "3   6237          1.0\n",
       "4   6650          0.0"
      ]
     },
     "execution_count": 95,
     "metadata": {},
     "output_type": "execute_result"
    }
   ],
   "source": [
    "test_df.head()"
   ]
  },
  {
   "cell_type": "code",
   "execution_count": 187,
   "metadata": {
    "execution": {
     "iopub.execute_input": "2024-05-08T06:19:47.425013Z",
     "iopub.status.busy": "2024-05-08T06:19:47.424196Z",
     "iopub.status.idle": "2024-05-08T06:19:47.431677Z",
     "shell.execute_reply": "2024-05-08T06:19:47.430614Z",
     "shell.execute_reply.started": "2024-05-08T06:19:47.424979Z"
    },
    "trusted": true
   },
   "outputs": [],
   "source": [
    "# Append 'pred_output' column to the DataFrame\n",
    "test_df['label'] = test_df['pred_output']\n",
    "# Drop the 'text' column\n",
    "test_df.drop(columns=['pred_output'], inplace=True)"
   ]
  },
  {
   "cell_type": "code",
   "execution_count": 97,
   "metadata": {
    "execution": {
     "iopub.execute_input": "2024-05-08T05:37:47.948003Z",
     "iopub.status.busy": "2024-05-08T05:37:47.947151Z",
     "iopub.status.idle": "2024-05-08T05:37:47.957889Z",
     "shell.execute_reply": "2024-05-08T05:37:47.956931Z",
     "shell.execute_reply.started": "2024-05-08T05:37:47.947968Z"
    },
    "trusted": true
   },
   "outputs": [
    {
     "data": {
      "text/html": [
       "<div>\n",
       "<style scoped>\n",
       "    .dataframe tbody tr th:only-of-type {\n",
       "        vertical-align: middle;\n",
       "    }\n",
       "\n",
       "    .dataframe tbody tr th {\n",
       "        vertical-align: top;\n",
       "    }\n",
       "\n",
       "    .dataframe thead th {\n",
       "        text-align: right;\n",
       "    }\n",
       "</style>\n",
       "<table border=\"1\" class=\"dataframe\">\n",
       "  <thead>\n",
       "    <tr style=\"text-align: right;\">\n",
       "      <th></th>\n",
       "      <th>ID</th>\n",
       "      <th>label</th>\n",
       "    </tr>\n",
       "  </thead>\n",
       "  <tbody>\n",
       "    <tr>\n",
       "      <th>0</th>\n",
       "      <td>27927</td>\n",
       "      <td>0.0</td>\n",
       "    </tr>\n",
       "    <tr>\n",
       "      <th>1</th>\n",
       "      <td>1660</td>\n",
       "      <td>1.0</td>\n",
       "    </tr>\n",
       "    <tr>\n",
       "      <th>2</th>\n",
       "      <td>96</td>\n",
       "      <td>1.0</td>\n",
       "    </tr>\n",
       "    <tr>\n",
       "      <th>3</th>\n",
       "      <td>6237</td>\n",
       "      <td>1.0</td>\n",
       "    </tr>\n",
       "    <tr>\n",
       "      <th>4</th>\n",
       "      <td>6650</td>\n",
       "      <td>0.0</td>\n",
       "    </tr>\n",
       "  </tbody>\n",
       "</table>\n",
       "</div>"
      ],
      "text/plain": [
       "      ID  label\n",
       "0  27927    0.0\n",
       "1   1660    1.0\n",
       "2     96    1.0\n",
       "3   6237    1.0\n",
       "4   6650    0.0"
      ]
     },
     "execution_count": 97,
     "metadata": {},
     "output_type": "execute_result"
    }
   ],
   "source": [
    "test_df.head()"
   ]
  },
  {
   "cell_type": "code",
   "execution_count": 188,
   "metadata": {
    "execution": {
     "iopub.execute_input": "2024-05-08T06:19:55.173733Z",
     "iopub.status.busy": "2024-05-08T06:19:55.173108Z",
     "iopub.status.idle": "2024-05-08T06:19:55.188823Z",
     "shell.execute_reply": "2024-05-08T06:19:55.188019Z",
     "shell.execute_reply.started": "2024-05-08T06:19:55.173702Z"
    },
    "trusted": true
   },
   "outputs": [],
   "source": [
    "# Save the modified DataFrame to a CSV file\n",
    "test_df.to_csv(\"sarcasm_submission_v3_2023EET2176_2023EET2190.csv\", index=False)"
   ]
  },
  {
   "cell_type": "markdown",
   "metadata": {},
   "source": [
    "2 rows are non-sense. Our output shape should be (5724,2) but shape is showing as (5726, 2). Manually removed them. Need to see how they crept it. Probably it's the delimiter thing again."
   ]
  },
  {
   "cell_type": "code",
   "execution_count": 101,
   "metadata": {
    "execution": {
     "iopub.execute_input": "2024-05-08T05:40:42.797969Z",
     "iopub.status.busy": "2024-05-08T05:40:42.797567Z",
     "iopub.status.idle": "2024-05-08T05:40:42.804669Z",
     "shell.execute_reply": "2024-05-08T05:40:42.803669Z",
     "shell.execute_reply.started": "2024-05-08T05:40:42.797938Z"
    },
    "trusted": true
   },
   "outputs": [
    {
     "data": {
      "text/plain": [
       "(5726, 2)"
      ]
     },
     "execution_count": 101,
     "metadata": {},
     "output_type": "execute_result"
    }
   ],
   "source": [
    "test_df.shape"
   ]
  },
  {
   "cell_type": "code",
   "execution_count": 100,
   "metadata": {
    "execution": {
     "iopub.execute_input": "2024-05-08T05:40:35.604162Z",
     "iopub.status.busy": "2024-05-08T05:40:35.603775Z",
     "iopub.status.idle": "2024-05-08T05:40:35.612954Z",
     "shell.execute_reply": "2024-05-08T05:40:35.611832Z",
     "shell.execute_reply.started": "2024-05-08T05:40:35.604132Z"
    },
    "trusted": true
   },
   "outputs": [
    {
     "data": {
      "text/plain": [
       "array([0., 1.], dtype=float32)"
      ]
     },
     "execution_count": 100,
     "metadata": {},
     "output_type": "execute_result"
    }
   ],
   "source": [
    "test_df['label'].unique()"
   ]
  }
 ],
 "metadata": {
  "accelerator": "GPU",
  "colab": {
   "name": "bert-pytorch.ipynb",
   "provenance": []
  },
  "kaggle": {
   "accelerator": "gpu",
   "dataSources": [
    {
     "databundleVersionId": 8306936,
     "sourceId": 75436,
     "sourceType": "competition"
    },
    {
     "datasetId": 4818366,
     "sourceId": 8147722,
     "sourceType": "datasetVersion"
    },
    {
     "datasetId": 4864359,
     "sourceId": 8208800,
     "sourceType": "datasetVersion"
    },
    {
     "datasetId": 4864526,
     "sourceId": 8209009,
     "sourceType": "datasetVersion"
    },
    {
     "datasetId": 4869990,
     "sourceId": 8216285,
     "sourceType": "datasetVersion"
    },
    {
     "datasetId": 4879706,
     "sourceId": 8228911,
     "sourceType": "datasetVersion"
    }
   ],
   "dockerImageVersionId": 30699,
   "isGpuEnabled": true,
   "isInternetEnabled": true,
   "language": "python",
   "sourceType": "notebook"
  },
  "kernelspec": {
   "display_name": "Python 3",
   "language": "python",
   "name": "python3"
  },
  "language_info": {
   "codemirror_mode": {
    "name": "ipython",
    "version": 3
   },
   "file_extension": ".py",
   "mimetype": "text/x-python",
   "name": "python",
   "nbconvert_exporter": "python",
   "pygments_lexer": "ipython3",
   "version": "3.10.13"
  },
  "widgets": {
   "application/vnd.jupyter.widget-state+json": {
    "146f6cea72b94d27a404c152d7c49716": {
     "model_module": "@jupyter-widgets/controls",
     "model_name": "FloatProgressModel",
     "state": {
      "_dom_classes": [],
      "_model_module": "@jupyter-widgets/controls",
      "_model_module_version": "1.5.0",
      "_model_name": "FloatProgressModel",
      "_view_count": null,
      "_view_module": "@jupyter-widgets/controls",
      "_view_module_version": "1.5.0",
      "_view_name": "ProgressView",
      "bar_style": "success",
      "description": "Downloading: 100%",
      "description_tooltip": null,
      "layout": "IPY_MODEL_1ee6c862f48c482981afdc1e4a0a16ae",
      "max": 28,
      "min": 0,
      "orientation": "horizontal",
      "style": "IPY_MODEL_ee07da1b2452472d99491785bd44c66a",
      "value": 28
     }
    },
    "1ee6c862f48c482981afdc1e4a0a16ae": {
     "model_module": "@jupyter-widgets/base",
     "model_name": "LayoutModel",
     "state": {
      "_model_module": "@jupyter-widgets/base",
      "_model_module_version": "1.2.0",
      "_model_name": "LayoutModel",
      "_view_count": null,
      "_view_module": "@jupyter-widgets/base",
      "_view_module_version": "1.2.0",
      "_view_name": "LayoutView",
      "align_content": null,
      "align_items": null,
      "align_self": null,
      "border": null,
      "bottom": null,
      "display": null,
      "flex": null,
      "flex_flow": null,
      "grid_area": null,
      "grid_auto_columns": null,
      "grid_auto_flow": null,
      "grid_auto_rows": null,
      "grid_column": null,
      "grid_gap": null,
      "grid_row": null,
      "grid_template_areas": null,
      "grid_template_columns": null,
      "grid_template_rows": null,
      "height": null,
      "justify_content": null,
      "justify_items": null,
      "left": null,
      "margin": null,
      "max_height": null,
      "max_width": null,
      "min_height": null,
      "min_width": null,
      "object_fit": null,
      "object_position": null,
      "order": null,
      "overflow": null,
      "overflow_x": null,
      "overflow_y": null,
      "padding": null,
      "right": null,
      "top": null,
      "visibility": null,
      "width": null
     }
    },
    "2c0901642f2745a7bc6da433de120c8e": {
     "model_module": "@jupyter-widgets/base",
     "model_name": "LayoutModel",
     "state": {
      "_model_module": "@jupyter-widgets/base",
      "_model_module_version": "1.2.0",
      "_model_name": "LayoutModel",
      "_view_count": null,
      "_view_module": "@jupyter-widgets/base",
      "_view_module_version": "1.2.0",
      "_view_name": "LayoutView",
      "align_content": null,
      "align_items": null,
      "align_self": null,
      "border": null,
      "bottom": null,
      "display": null,
      "flex": null,
      "flex_flow": null,
      "grid_area": null,
      "grid_auto_columns": null,
      "grid_auto_flow": null,
      "grid_auto_rows": null,
      "grid_column": null,
      "grid_gap": null,
      "grid_row": null,
      "grid_template_areas": null,
      "grid_template_columns": null,
      "grid_template_rows": null,
      "height": null,
      "justify_content": null,
      "justify_items": null,
      "left": null,
      "margin": null,
      "max_height": null,
      "max_width": null,
      "min_height": null,
      "min_width": null,
      "object_fit": null,
      "object_position": null,
      "order": null,
      "overflow": null,
      "overflow_x": null,
      "overflow_y": null,
      "padding": null,
      "right": null,
      "top": null,
      "visibility": null,
      "width": null
     }
    },
    "38bfcfc2b4fc4972a20b5d1d45317243": {
     "model_module": "@jupyter-widgets/base",
     "model_name": "LayoutModel",
     "state": {
      "_model_module": "@jupyter-widgets/base",
      "_model_module_version": "1.2.0",
      "_model_name": "LayoutModel",
      "_view_count": null,
      "_view_module": "@jupyter-widgets/base",
      "_view_module_version": "1.2.0",
      "_view_name": "LayoutView",
      "align_content": null,
      "align_items": null,
      "align_self": null,
      "border": null,
      "bottom": null,
      "display": null,
      "flex": null,
      "flex_flow": null,
      "grid_area": null,
      "grid_auto_columns": null,
      "grid_auto_flow": null,
      "grid_auto_rows": null,
      "grid_column": null,
      "grid_gap": null,
      "grid_row": null,
      "grid_template_areas": null,
      "grid_template_columns": null,
      "grid_template_rows": null,
      "height": null,
      "justify_content": null,
      "justify_items": null,
      "left": null,
      "margin": null,
      "max_height": null,
      "max_width": null,
      "min_height": null,
      "min_width": null,
      "object_fit": null,
      "object_position": null,
      "order": null,
      "overflow": null,
      "overflow_x": null,
      "overflow_y": null,
      "padding": null,
      "right": null,
      "top": null,
      "visibility": null,
      "width": null
     }
    },
    "421525a424424b6e8cabc4c2124339c5": {
     "model_module": "@jupyter-widgets/controls",
     "model_name": "DescriptionStyleModel",
     "state": {
      "_model_module": "@jupyter-widgets/controls",
      "_model_module_version": "1.5.0",
      "_model_name": "DescriptionStyleModel",
      "_view_count": null,
      "_view_module": "@jupyter-widgets/base",
      "_view_module_version": "1.2.0",
      "_view_name": "StyleView",
      "description_width": ""
     }
    },
    "4994f208620c4663b930f3690b307231": {
     "model_module": "@jupyter-widgets/base",
     "model_name": "LayoutModel",
     "state": {
      "_model_module": "@jupyter-widgets/base",
      "_model_module_version": "1.2.0",
      "_model_name": "LayoutModel",
      "_view_count": null,
      "_view_module": "@jupyter-widgets/base",
      "_view_module_version": "1.2.0",
      "_view_name": "LayoutView",
      "align_content": null,
      "align_items": null,
      "align_self": null,
      "border": null,
      "bottom": null,
      "display": null,
      "flex": null,
      "flex_flow": null,
      "grid_area": null,
      "grid_auto_columns": null,
      "grid_auto_flow": null,
      "grid_auto_rows": null,
      "grid_column": null,
      "grid_gap": null,
      "grid_row": null,
      "grid_template_areas": null,
      "grid_template_columns": null,
      "grid_template_rows": null,
      "height": null,
      "justify_content": null,
      "justify_items": null,
      "left": null,
      "margin": null,
      "max_height": null,
      "max_width": null,
      "min_height": null,
      "min_width": null,
      "object_fit": null,
      "object_position": null,
      "order": null,
      "overflow": null,
      "overflow_x": null,
      "overflow_y": null,
      "padding": null,
      "right": null,
      "top": null,
      "visibility": null,
      "width": null
     }
    },
    "4edfa42ca0214af4afa918898465d939": {
     "model_module": "@jupyter-widgets/controls",
     "model_name": "FloatProgressModel",
     "state": {
      "_dom_classes": [],
      "_model_module": "@jupyter-widgets/controls",
      "_model_module_version": "1.5.0",
      "_model_name": "FloatProgressModel",
      "_view_count": null,
      "_view_module": "@jupyter-widgets/controls",
      "_view_module_version": "1.5.0",
      "_view_name": "ProgressView",
      "bar_style": "success",
      "description": "Downloading: 100%",
      "description_tooltip": null,
      "layout": "IPY_MODEL_8a58a3dded7d4649a53dc4c02b426cc4",
      "max": 466062,
      "min": 0,
      "orientation": "horizontal",
      "style": "IPY_MODEL_db1b7ef2a88b475c91f5fec00ef36c6c",
      "value": 466062
     }
    },
    "5c7fda1ef17d421ba20c721f640e6192": {
     "model_module": "@jupyter-widgets/controls",
     "model_name": "DescriptionStyleModel",
     "state": {
      "_model_module": "@jupyter-widgets/controls",
      "_model_module_version": "1.5.0",
      "_model_name": "DescriptionStyleModel",
      "_view_count": null,
      "_view_module": "@jupyter-widgets/base",
      "_view_module_version": "1.2.0",
      "_view_name": "StyleView",
      "description_width": ""
     }
    },
    "73e15358fbc34623977471e113035b8f": {
     "model_module": "@jupyter-widgets/controls",
     "model_name": "HTMLModel",
     "state": {
      "_dom_classes": [],
      "_model_module": "@jupyter-widgets/controls",
      "_model_module_version": "1.5.0",
      "_model_name": "HTMLModel",
      "_view_count": null,
      "_view_module": "@jupyter-widgets/controls",
      "_view_module_version": "1.5.0",
      "_view_name": "HTMLView",
      "description": "",
      "description_tooltip": null,
      "layout": "IPY_MODEL_4994f208620c4663b930f3690b307231",
      "placeholder": "​",
      "style": "IPY_MODEL_5c7fda1ef17d421ba20c721f640e6192",
      "value": " 28.0/28.0 [00:01&lt;00:00, 27.8B/s]"
     }
    },
    "7d613ba2dfc84ec2bd83a834f8053ea0": {
     "model_module": "@jupyter-widgets/controls",
     "model_name": "ProgressStyleModel",
     "state": {
      "_model_module": "@jupyter-widgets/controls",
      "_model_module_version": "1.5.0",
      "_model_name": "ProgressStyleModel",
      "_view_count": null,
      "_view_module": "@jupyter-widgets/base",
      "_view_module_version": "1.2.0",
      "_view_name": "StyleView",
      "bar_color": null,
      "description_width": "initial"
     }
    },
    "7f4a347af12f404bb6bd11a0be2cc8a2": {
     "model_module": "@jupyter-widgets/controls",
     "model_name": "HBoxModel",
     "state": {
      "_dom_classes": [],
      "_model_module": "@jupyter-widgets/controls",
      "_model_module_version": "1.5.0",
      "_model_name": "HBoxModel",
      "_view_count": null,
      "_view_module": "@jupyter-widgets/controls",
      "_view_module_version": "1.5.0",
      "_view_name": "HBoxView",
      "box_style": "",
      "children": [
       "IPY_MODEL_146f6cea72b94d27a404c152d7c49716",
       "IPY_MODEL_73e15358fbc34623977471e113035b8f"
      ],
      "layout": "IPY_MODEL_38bfcfc2b4fc4972a20b5d1d45317243"
     }
    },
    "80c47bb21c02403ab01e1a87343f52b6": {
     "model_module": "@jupyter-widgets/controls",
     "model_name": "HTMLModel",
     "state": {
      "_dom_classes": [],
      "_model_module": "@jupyter-widgets/controls",
      "_model_module_version": "1.5.0",
      "_model_name": "HTMLModel",
      "_view_count": null,
      "_view_module": "@jupyter-widgets/controls",
      "_view_module_version": "1.5.0",
      "_view_name": "HTMLView",
      "description": "",
      "description_tooltip": null,
      "layout": "IPY_MODEL_831ca81d5e28459d8158e1fcd16cf112",
      "placeholder": "​",
      "style": "IPY_MODEL_421525a424424b6e8cabc4c2124339c5",
      "value": " 466k/466k [00:00&lt;00:00, 2.26MB/s]"
     }
    },
    "831ca81d5e28459d8158e1fcd16cf112": {
     "model_module": "@jupyter-widgets/base",
     "model_name": "LayoutModel",
     "state": {
      "_model_module": "@jupyter-widgets/base",
      "_model_module_version": "1.2.0",
      "_model_name": "LayoutModel",
      "_view_count": null,
      "_view_module": "@jupyter-widgets/base",
      "_view_module_version": "1.2.0",
      "_view_name": "LayoutView",
      "align_content": null,
      "align_items": null,
      "align_self": null,
      "border": null,
      "bottom": null,
      "display": null,
      "flex": null,
      "flex_flow": null,
      "grid_area": null,
      "grid_auto_columns": null,
      "grid_auto_flow": null,
      "grid_auto_rows": null,
      "grid_column": null,
      "grid_gap": null,
      "grid_row": null,
      "grid_template_areas": null,
      "grid_template_columns": null,
      "grid_template_rows": null,
      "height": null,
      "justify_content": null,
      "justify_items": null,
      "left": null,
      "margin": null,
      "max_height": null,
      "max_width": null,
      "min_height": null,
      "min_width": null,
      "object_fit": null,
      "object_position": null,
      "order": null,
      "overflow": null,
      "overflow_x": null,
      "overflow_y": null,
      "padding": null,
      "right": null,
      "top": null,
      "visibility": null,
      "width": null
     }
    },
    "8a58a3dded7d4649a53dc4c02b426cc4": {
     "model_module": "@jupyter-widgets/base",
     "model_name": "LayoutModel",
     "state": {
      "_model_module": "@jupyter-widgets/base",
      "_model_module_version": "1.2.0",
      "_model_name": "LayoutModel",
      "_view_count": null,
      "_view_module": "@jupyter-widgets/base",
      "_view_module_version": "1.2.0",
      "_view_name": "LayoutView",
      "align_content": null,
      "align_items": null,
      "align_self": null,
      "border": null,
      "bottom": null,
      "display": null,
      "flex": null,
      "flex_flow": null,
      "grid_area": null,
      "grid_auto_columns": null,
      "grid_auto_flow": null,
      "grid_auto_rows": null,
      "grid_column": null,
      "grid_gap": null,
      "grid_row": null,
      "grid_template_areas": null,
      "grid_template_columns": null,
      "grid_template_rows": null,
      "height": null,
      "justify_content": null,
      "justify_items": null,
      "left": null,
      "margin": null,
      "max_height": null,
      "max_width": null,
      "min_height": null,
      "min_width": null,
      "object_fit": null,
      "object_position": null,
      "order": null,
      "overflow": null,
      "overflow_x": null,
      "overflow_y": null,
      "padding": null,
      "right": null,
      "top": null,
      "visibility": null,
      "width": null
     }
    },
    "9196e60b61954fb78571c123e780a4bf": {
     "model_module": "@jupyter-widgets/base",
     "model_name": "LayoutModel",
     "state": {
      "_model_module": "@jupyter-widgets/base",
      "_model_module_version": "1.2.0",
      "_model_name": "LayoutModel",
      "_view_count": null,
      "_view_module": "@jupyter-widgets/base",
      "_view_module_version": "1.2.0",
      "_view_name": "LayoutView",
      "align_content": null,
      "align_items": null,
      "align_self": null,
      "border": null,
      "bottom": null,
      "display": null,
      "flex": null,
      "flex_flow": null,
      "grid_area": null,
      "grid_auto_columns": null,
      "grid_auto_flow": null,
      "grid_auto_rows": null,
      "grid_column": null,
      "grid_gap": null,
      "grid_row": null,
      "grid_template_areas": null,
      "grid_template_columns": null,
      "grid_template_rows": null,
      "height": null,
      "justify_content": null,
      "justify_items": null,
      "left": null,
      "margin": null,
      "max_height": null,
      "max_width": null,
      "min_height": null,
      "min_width": null,
      "object_fit": null,
      "object_position": null,
      "order": null,
      "overflow": null,
      "overflow_x": null,
      "overflow_y": null,
      "padding": null,
      "right": null,
      "top": null,
      "visibility": null,
      "width": null
     }
    },
    "ada2275d1c4f43ad9c04e6f702ce8ebb": {
     "model_module": "@jupyter-widgets/base",
     "model_name": "LayoutModel",
     "state": {
      "_model_module": "@jupyter-widgets/base",
      "_model_module_version": "1.2.0",
      "_model_name": "LayoutModel",
      "_view_count": null,
      "_view_module": "@jupyter-widgets/base",
      "_view_module_version": "1.2.0",
      "_view_name": "LayoutView",
      "align_content": null,
      "align_items": null,
      "align_self": null,
      "border": null,
      "bottom": null,
      "display": null,
      "flex": null,
      "flex_flow": null,
      "grid_area": null,
      "grid_auto_columns": null,
      "grid_auto_flow": null,
      "grid_auto_rows": null,
      "grid_column": null,
      "grid_gap": null,
      "grid_row": null,
      "grid_template_areas": null,
      "grid_template_columns": null,
      "grid_template_rows": null,
      "height": null,
      "justify_content": null,
      "justify_items": null,
      "left": null,
      "margin": null,
      "max_height": null,
      "max_width": null,
      "min_height": null,
      "min_width": null,
      "object_fit": null,
      "object_position": null,
      "order": null,
      "overflow": null,
      "overflow_x": null,
      "overflow_y": null,
      "padding": null,
      "right": null,
      "top": null,
      "visibility": null,
      "width": null
     }
    },
    "b799caea4b8c434ebbb86886a5fa7dee": {
     "model_module": "@jupyter-widgets/controls",
     "model_name": "HBoxModel",
     "state": {
      "_dom_classes": [],
      "_model_module": "@jupyter-widgets/controls",
      "_model_module_version": "1.5.0",
      "_model_name": "HBoxModel",
      "_view_count": null,
      "_view_module": "@jupyter-widgets/controls",
      "_view_module_version": "1.5.0",
      "_view_name": "HBoxView",
      "box_style": "",
      "children": [
       "IPY_MODEL_bc26fb52ff7f400291cc9fdcf9f49e86",
       "IPY_MODEL_f84eb759ba124713b2736fa6e4c308e6"
      ],
      "layout": "IPY_MODEL_bc1eaff9c68e4e98bbd3a373dc1f4e0b"
     }
    },
    "ba5e219b14cf429faf2e6f97b811b327": {
     "model_module": "@jupyter-widgets/controls",
     "model_name": "HBoxModel",
     "state": {
      "_dom_classes": [],
      "_model_module": "@jupyter-widgets/controls",
      "_model_module_version": "1.5.0",
      "_model_name": "HBoxModel",
      "_view_count": null,
      "_view_module": "@jupyter-widgets/controls",
      "_view_module_version": "1.5.0",
      "_view_name": "HBoxView",
      "box_style": "",
      "children": [
       "IPY_MODEL_4edfa42ca0214af4afa918898465d939",
       "IPY_MODEL_80c47bb21c02403ab01e1a87343f52b6"
      ],
      "layout": "IPY_MODEL_2c0901642f2745a7bc6da433de120c8e"
     }
    },
    "bc1eaff9c68e4e98bbd3a373dc1f4e0b": {
     "model_module": "@jupyter-widgets/base",
     "model_name": "LayoutModel",
     "state": {
      "_model_module": "@jupyter-widgets/base",
      "_model_module_version": "1.2.0",
      "_model_name": "LayoutModel",
      "_view_count": null,
      "_view_module": "@jupyter-widgets/base",
      "_view_module_version": "1.2.0",
      "_view_name": "LayoutView",
      "align_content": null,
      "align_items": null,
      "align_self": null,
      "border": null,
      "bottom": null,
      "display": null,
      "flex": null,
      "flex_flow": null,
      "grid_area": null,
      "grid_auto_columns": null,
      "grid_auto_flow": null,
      "grid_auto_rows": null,
      "grid_column": null,
      "grid_gap": null,
      "grid_row": null,
      "grid_template_areas": null,
      "grid_template_columns": null,
      "grid_template_rows": null,
      "height": null,
      "justify_content": null,
      "justify_items": null,
      "left": null,
      "margin": null,
      "max_height": null,
      "max_width": null,
      "min_height": null,
      "min_width": null,
      "object_fit": null,
      "object_position": null,
      "order": null,
      "overflow": null,
      "overflow_x": null,
      "overflow_y": null,
      "padding": null,
      "right": null,
      "top": null,
      "visibility": null,
      "width": null
     }
    },
    "bc26fb52ff7f400291cc9fdcf9f49e86": {
     "model_module": "@jupyter-widgets/controls",
     "model_name": "FloatProgressModel",
     "state": {
      "_dom_classes": [],
      "_model_module": "@jupyter-widgets/controls",
      "_model_module_version": "1.5.0",
      "_model_name": "FloatProgressModel",
      "_view_count": null,
      "_view_module": "@jupyter-widgets/controls",
      "_view_module_version": "1.5.0",
      "_view_name": "ProgressView",
      "bar_style": "success",
      "description": "Downloading: 100%",
      "description_tooltip": null,
      "layout": "IPY_MODEL_ada2275d1c4f43ad9c04e6f702ce8ebb",
      "max": 231508,
      "min": 0,
      "orientation": "horizontal",
      "style": "IPY_MODEL_7d613ba2dfc84ec2bd83a834f8053ea0",
      "value": 231508
     }
    },
    "cea1b70019b1421a9c67285dcdcbbe4a": {
     "model_module": "@jupyter-widgets/controls",
     "model_name": "DescriptionStyleModel",
     "state": {
      "_model_module": "@jupyter-widgets/controls",
      "_model_module_version": "1.5.0",
      "_model_name": "DescriptionStyleModel",
      "_view_count": null,
      "_view_module": "@jupyter-widgets/base",
      "_view_module_version": "1.2.0",
      "_view_name": "StyleView",
      "description_width": ""
     }
    },
    "db1b7ef2a88b475c91f5fec00ef36c6c": {
     "model_module": "@jupyter-widgets/controls",
     "model_name": "ProgressStyleModel",
     "state": {
      "_model_module": "@jupyter-widgets/controls",
      "_model_module_version": "1.5.0",
      "_model_name": "ProgressStyleModel",
      "_view_count": null,
      "_view_module": "@jupyter-widgets/base",
      "_view_module_version": "1.2.0",
      "_view_name": "StyleView",
      "bar_color": null,
      "description_width": "initial"
     }
    },
    "ee07da1b2452472d99491785bd44c66a": {
     "model_module": "@jupyter-widgets/controls",
     "model_name": "ProgressStyleModel",
     "state": {
      "_model_module": "@jupyter-widgets/controls",
      "_model_module_version": "1.5.0",
      "_model_name": "ProgressStyleModel",
      "_view_count": null,
      "_view_module": "@jupyter-widgets/base",
      "_view_module_version": "1.2.0",
      "_view_name": "StyleView",
      "bar_color": null,
      "description_width": "initial"
     }
    },
    "f84eb759ba124713b2736fa6e4c308e6": {
     "model_module": "@jupyter-widgets/controls",
     "model_name": "HTMLModel",
     "state": {
      "_dom_classes": [],
      "_model_module": "@jupyter-widgets/controls",
      "_model_module_version": "1.5.0",
      "_model_name": "HTMLModel",
      "_view_count": null,
      "_view_module": "@jupyter-widgets/controls",
      "_view_module_version": "1.5.0",
      "_view_name": "HTMLView",
      "description": "",
      "description_tooltip": null,
      "layout": "IPY_MODEL_9196e60b61954fb78571c123e780a4bf",
      "placeholder": "​",
      "style": "IPY_MODEL_cea1b70019b1421a9c67285dcdcbbe4a",
      "value": " 232k/232k [00:02&lt;00:00, 99.2kB/s]"
     }
    }
   }
  }
 },
 "nbformat": 4,
 "nbformat_minor": 4
}
